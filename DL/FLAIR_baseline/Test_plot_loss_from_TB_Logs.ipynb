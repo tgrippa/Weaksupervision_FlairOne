{
 "cells": [
  {
   "cell_type": "raw",
   "id": "962aad75-8cef-472a-b6fb-97ed60e4defb",
   "metadata": {
    "tags": []
   },
   "source": [
    "pip install tbparse"
   ]
  },
  {
   "cell_type": "code",
   "execution_count": 156,
   "id": "44716812-39c8-4ec5-a147-6686f660937f",
   "metadata": {
    "tags": []
   },
   "outputs": [],
   "source": [
    "import sys"
   ]
  },
  {
   "cell_type": "code",
   "execution_count": 205,
   "id": "8ee082cd-bfc7-4146-8850-bddb042ad78c",
   "metadata": {
    "tags": []
   },
   "outputs": [],
   "source": [
    "from tbparse import SummaryReader\n",
    "import matplotlib.pyplot as plt\n",
    "\n",
    "def plot_loss(tblog_dir, save_path, ylim=None, show=False):\n",
    "    '''\n",
    "    Display a plot by retreaving logs from a Tensorboard dir.\n",
    "\n",
    "    Parameters:\n",
    "        tblog_dir (float): the path to the Tensorboard log folder\n",
    "        save_path (float): the path of the file to save (.jpg)\n",
    "        ylim (list): a list of minimum and maximum values for the y axis (2 values)\n",
    "        show (bool): should be True to display the plot (in notebook). Keep it False for scripting.\n",
    "\n",
    "    '''\n",
    "    reader = SummaryReader(log_dir)  # Read the logs from Tensorboard dir\n",
    "    df = reader.scalars  # Read the scalar\n",
    "    print(df.iloc[-1].value)\n",
    "    # Get train loss\n",
    "    train_loss = df[df[\"tag\"] == 'train_loss']\n",
    "    train_loss.set_index('step', inplace=True)\n",
    "    print(train_loss.iloc[-1].value)\n",
    "    # Get val loss\n",
    "    val_loss = df[df[\"tag\"] == 'val_loss']\n",
    "    val_loss.set_index('step', inplace=True)    \n",
    "    print(val_loss.iloc[-1].value)"
   ]
  },
  {
   "cell_type": "code",
   "execution_count": 178,
   "id": "875fe274-88aa-4b65-989b-bf3dd7bcd6c9",
   "metadata": {
    "tags": []
   },
   "outputs": [],
   "source": [
    "    \n",
    "    # Plot loss curves\n",
    "    plt.plot(train_loss.loc[:, 'value'])\n",
    "    plt.plot(val_loss.loc[:, 'value'])\n",
    "    plt.title(\"Loss curves\")\n",
    "    plt.legend(['train', 'val'], loc='upper right')\n",
    "    plt.ylabel(\"loss\")\n",
    "    plt.xlabel(\"step\")\n",
    "    if not ylim:\n",
    "        max_loss = max(train_loss.max()['value'],val_loss.max()['value'])\n",
    "        ylim = [0,round(max_loss, 2)+0.1]\n",
    "    plt.ylim(ylim)\n",
    "    plt.savefig(save_path, dpi = 200)\n",
    "    if show:\n",
    "        plt.show() \n",
    "    else: \n",
    "        plt.close()"
   ]
  },
  {
   "cell_type": "raw",
   "id": "aca90b2a-280a-4a22-8c5f-e2b2d57bbe76",
   "metadata": {
    "tags": []
   },
   "source": [
    "from tbparse import SummaryReader\n",
    "import matplotlib.pyplot as plt\n",
    "\n",
    "def plot_miou(tblog_dir, save_path, ylim=None, show=False):\n",
    "    '''\n",
    "    Display a plot by retreaving logs from a Tensorboard dir.\n",
    "\n",
    "    Parameters:\n",
    "        tblog_dir (float): the path to the Tensorboard log folder\n",
    "        save_path (float): the path of the file to save (.jpg)\n",
    "        ylim (list): a list of minimum and maximum values for the y axis (2 values)\n",
    "        show (bool): should be True to display the plot (in notebook). Keep it False for scripting.\n",
    "\n",
    "    ''' \n",
    "    reader = SummaryReader(log_dir)  # Read the logs from Tensorboard dir\n",
    "    df = reader.scalars  # Read the scalar\n",
    "    # Get train loss\n",
    "    train_loss = df[df[\"tag\"] == 'train_loss']\n",
    "    train_loss.set_index('step', inplace=True)\n",
    "    # Get val loss\n",
    "    val_loss = df[df[\"tag\"] == 'val_loss']\n",
    "    val_loss.set_index('step', inplace=True)\n",
    "    # Plot loss curves\n",
    "    plt.plot(train_loss.loc[:, 'value'])\n",
    "    plt.plot(val_loss.loc[:, 'value'])\n",
    "    plt.title(\"Loss curves\")\n",
    "    plt.legend(['train', 'val'], loc='upper right')\n",
    "    plt.ylabel(\"loss\")\n",
    "    plt.xlabel(\"step\")\n",
    "    if not ylim:\n",
    "        max_loss = max(train_loss.max()['value'],val_loss.max()['value'])\n",
    "        ylim = [0,round(max_loss, 2)+0.1]\n",
    "    plt.ylim(ylim)\n",
    "    plt.savefig(save_path, dpi = 200)\n",
    "    if show:\n",
    "        plt.show()\n",
    "    else: \n",
    "        plt.close()"
   ]
  },
  {
   "cell_type": "code",
   "execution_count": 204,
   "id": "2727c625-875c-4cb5-88cc-98f71299dfc0",
   "metadata": {
    "tags": []
   },
   "outputs": [
    {
     "name": "stdout",
     "output_type": "stream",
     "text": [
      "/home/tgrippa/project/weak_flair/experiments/flair-one-baseline_argu/tensorboard_logs_flair-one-baseline_argu_01_12_50\n",
      "0.30067718029022217\n",
      "0.2092694640159607\n",
      "1.685211420059204\n",
      "/home/tgrippa/project/weak_flair/experiments/flair-one-baseline_argu/tensorboard_logs_flair-one-baseline_argu_01_18_50\n",
      "0.30067718029022217\n",
      "0.2092694640159607\n",
      "1.685211420059204\n",
      "/home/tgrippa/project/weak_flair/experiments/flair-one-baseline_argu/tensorboard_logs_flair-one-baseline_argu_01_18_50_AugmentTrue\n",
      "0.30067718029022217\n",
      "0.2092694640159607\n",
      "1.685211420059204\n",
      "/home/tgrippa/project/weak_flair/experiments/flair-one-baseline_argu/tensorboard_logs_flair-one-baseline_argu_05_18_50\n",
      "0.30067718029022217\n",
      "0.2092694640159607\n",
      "1.685211420059204\n",
      "/home/tgrippa/project/weak_flair/experiments/flair-one-baseline_argu/tensorboard_logs_flair-one-baseline_argu_001_18_50\n",
      "0.30067718029022217\n",
      "0.2092694640159607\n",
      "1.685211420059204\n"
     ]
    }
   ],
   "source": [
    "import glob\n",
    "\n",
    "list_log_dirs = glob.glob(\"/home/tgrippa/project/weak_flair/experiments/flair-one-baseline_argu/tensorboard_logs_flair-one-baseline_argu_*\")\n",
    "for tblog_dir in list_log_dirs:\n",
    "    print(tblog_dir)\n",
    "    plot_path = os.path.join(tblog_dir,\"loss.jpg\")\n",
    "    plot_loss(tblog_dir, plot_path, show=True)"
   ]
  },
  {
   "cell_type": "code",
   "execution_count": 196,
   "id": "59a85f24-7041-43ff-a602-aaefc6fb781f",
   "metadata": {
    "tags": []
   },
   "outputs": [
    {
     "name": "stdout",
     "output_type": "stream",
     "text": [
      "0.31325697898864746\n",
      "0.33524614572525024\n"
     ]
    }
   ],
   "source": [
    "import glob\n",
    "\n",
    "list_log_dirs = glob.glob(\"/home/tgrippa/project/weak_flair/experiments/flair-one-baseline_argu/tensorboard_logs_flair-one-baseline_argu_*\")\n",
    "for tblog_dir in list_log_dirs[:2]:\n",
    "    reader = SummaryReader(tblog_dir)  # Read the logs from Tensorboard dir\n",
    "    df = reader.scalars\n",
    "    print(df.iloc[-1].value)"
   ]
  },
  {
   "cell_type": "code",
   "execution_count": 190,
   "id": "60188147-3910-451d-a890-32d59ac3a461",
   "metadata": {
    "tags": []
   },
   "outputs": [
    {
     "data": {
      "text/plain": [
       "0.33524614572525024"
      ]
     },
     "execution_count": 190,
     "metadata": {},
     "output_type": "execute_result"
    }
   ],
   "source": [
    "df.iloc[-1].value"
   ]
  },
  {
   "cell_type": "code",
   "execution_count": null,
   "id": "7ffb647a-d5e6-48c7-b7cc-a7ae7afa30bb",
   "metadata": {},
   "outputs": [],
   "source": []
  },
  {
   "cell_type": "code",
   "execution_count": 154,
   "id": "44bd3246-30c3-4414-901d-6eb220ee34f6",
   "metadata": {},
   "outputs": [
    {
     "data": {
      "text/plain": [
       "['/home/tgrippa/project/weak_flair/experiments/flair-one-baseline_argu/tensorboard_logs_flair-one-baseline_argu_01_12_50',\n",
       " '/home/tgrippa/project/weak_flair/experiments/flair-one-baseline_argu/tensorboard_logs_flair-one-baseline_argu_01_18_50',\n",
       " '/home/tgrippa/project/weak_flair/experiments/flair-one-baseline_argu/tensorboard_logs_flair-one-baseline_argu_01_18_50_AugmentTrue',\n",
       " '/home/tgrippa/project/weak_flair/experiments/flair-one-baseline_argu/tensorboard_logs_flair-one-baseline_argu_05_18_50',\n",
       " '/home/tgrippa/project/weak_flair/experiments/flair-one-baseline_argu/tensorboard_logs_flair-one-baseline_argu_001_18_50']"
      ]
     },
     "execution_count": 154,
     "metadata": {},
     "output_type": "execute_result"
    }
   ],
   "source": [
    "list_log_dirs"
   ]
  },
  {
   "cell_type": "code",
   "execution_count": null,
   "id": "b7eaa19f-281e-497f-ae31-513d3baedca8",
   "metadata": {},
   "outputs": [],
   "source": []
  }
 ],
 "metadata": {
  "kernelspec": {
   "display_name": "Python 3 (ipykernel)",
   "language": "python",
   "name": "python3"
  },
  "language_info": {
   "codemirror_mode": {
    "name": "ipython",
    "version": 3
   },
   "file_extension": ".py",
   "mimetype": "text/x-python",
   "name": "python",
   "nbconvert_exporter": "python",
   "pygments_lexer": "ipython3",
   "version": "3.7.13"
  }
 },
 "nbformat": 4,
 "nbformat_minor": 5
}
