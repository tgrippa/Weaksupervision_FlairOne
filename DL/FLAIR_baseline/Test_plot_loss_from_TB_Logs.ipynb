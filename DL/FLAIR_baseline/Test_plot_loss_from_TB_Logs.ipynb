{
 "cells": [
  {
   "cell_type": "code",
   "execution_count": 1,
   "id": "7b31e7e1-bec3-47e3-b9a7-d7378a7c5bda",
   "metadata": {
    "tags": []
   },
   "outputs": [
    {
     "name": "stdout",
     "output_type": "stream",
     "text": [
      "Defaulting to user installation because normal site-packages is not writeable\n",
      "Collecting tbparse\n",
      "  Downloading tbparse-0.0.7-py3-none-any.whl (17 kB)\n",
      "Requirement already satisfied: pandas>=1.3.0 in /home/tgrippa/.local/lib/python3.7/site-packages (from tbparse) (1.3.5)\n",
      "Requirement already satisfied: tensorboard>=2.0.0 in /home/tgrippa/.local/lib/python3.7/site-packages (from tbparse) (2.11.2)\n",
      "Requirement already satisfied: numpy>=1.17.3 in /opt/conda/lib/python3.7/site-packages (from pandas>=1.3.0->tbparse) (1.21.5)\n",
      "Requirement already satisfied: pytz>=2017.3 in /opt/conda/lib/python3.7/site-packages (from pandas>=1.3.0->tbparse) (2022.1)\n",
      "Requirement already satisfied: python-dateutil>=2.7.3 in /opt/conda/lib/python3.7/site-packages (from pandas>=1.3.0->tbparse) (2.8.2)\n",
      "Requirement already satisfied: tensorboard-data-server<0.7.0,>=0.6.0 in /opt/conda/lib/python3.7/site-packages (from tensorboard>=2.0.0->tbparse) (0.6.1)\n",
      "Requirement already satisfied: wheel>=0.26 in /opt/conda/lib/python3.7/site-packages (from tensorboard>=2.0.0->tbparse) (0.37.1)\n",
      "Requirement already satisfied: protobuf<4,>=3.9.2 in /opt/conda/lib/python3.7/site-packages (from tensorboard>=2.0.0->tbparse) (3.19.6)\n",
      "Requirement already satisfied: absl-py>=0.4 in /opt/conda/lib/python3.7/site-packages (from tensorboard>=2.0.0->tbparse) (1.4.0)\n",
      "Requirement already satisfied: werkzeug>=1.0.1 in /opt/conda/lib/python3.7/site-packages (from tensorboard>=2.0.0->tbparse) (2.2.3)\n",
      "Requirement already satisfied: google-auth-oauthlib<0.5,>=0.4.1 in /opt/conda/lib/python3.7/site-packages (from tensorboard>=2.0.0->tbparse) (0.4.6)\n",
      "Requirement already satisfied: markdown>=2.6.8 in /opt/conda/lib/python3.7/site-packages (from tensorboard>=2.0.0->tbparse) (3.4.3)\n",
      "Requirement already satisfied: requests<3,>=2.21.0 in /opt/conda/lib/python3.7/site-packages (from tensorboard>=2.0.0->tbparse) (2.28.2)\n",
      "Requirement already satisfied: google-auth<3,>=1.6.3 in /opt/conda/lib/python3.7/site-packages (from tensorboard>=2.0.0->tbparse) (2.17.1)\n",
      "Requirement already satisfied: grpcio>=1.24.3 in /opt/conda/lib/python3.7/site-packages (from tensorboard>=2.0.0->tbparse) (1.53.0)\n",
      "Requirement already satisfied: setuptools>=41.0.0 in /opt/conda/lib/python3.7/site-packages (from tensorboard>=2.0.0->tbparse) (61.2.0)\n",
      "Requirement already satisfied: tensorboard-plugin-wit>=1.6.0 in /opt/conda/lib/python3.7/site-packages (from tensorboard>=2.0.0->tbparse) (1.8.1)\n",
      "Requirement already satisfied: rsa<5,>=3.1.4 in /opt/conda/lib/python3.7/site-packages (from google-auth<3,>=1.6.3->tensorboard>=2.0.0->tbparse) (4.9)\n",
      "Requirement already satisfied: pyasn1-modules>=0.2.1 in /opt/conda/lib/python3.7/site-packages (from google-auth<3,>=1.6.3->tensorboard>=2.0.0->tbparse) (0.2.8)\n",
      "Requirement already satisfied: six>=1.9.0 in /opt/conda/lib/python3.7/site-packages (from google-auth<3,>=1.6.3->tensorboard>=2.0.0->tbparse) (1.16.0)\n",
      "Requirement already satisfied: cachetools<6.0,>=2.0.0 in /opt/conda/lib/python3.7/site-packages (from google-auth<3,>=1.6.3->tensorboard>=2.0.0->tbparse) (5.3.0)\n",
      "Requirement already satisfied: requests-oauthlib>=0.7.0 in /opt/conda/lib/python3.7/site-packages (from google-auth-oauthlib<0.5,>=0.4.1->tensorboard>=2.0.0->tbparse) (1.3.1)\n",
      "Requirement already satisfied: importlib-metadata>=4.4 in /opt/conda/lib/python3.7/site-packages (from markdown>=2.6.8->tensorboard>=2.0.0->tbparse) (6.1.0)\n",
      "Requirement already satisfied: certifi>=2017.4.17 in /opt/conda/lib/python3.7/site-packages (from requests<3,>=2.21.0->tensorboard>=2.0.0->tbparse) (2022.6.15)\n",
      "Requirement already satisfied: urllib3<1.27,>=1.21.1 in /home/tgrippa/.local/lib/python3.7/site-packages (from requests<3,>=2.21.0->tensorboard>=2.0.0->tbparse) (1.26.15)\n",
      "Requirement already satisfied: charset-normalizer<4,>=2 in /opt/conda/lib/python3.7/site-packages (from requests<3,>=2.21.0->tensorboard>=2.0.0->tbparse) (2.0.4)\n",
      "Requirement already satisfied: idna<4,>=2.5 in /opt/conda/lib/python3.7/site-packages (from requests<3,>=2.21.0->tensorboard>=2.0.0->tbparse) (3.3)\n",
      "Requirement already satisfied: MarkupSafe>=2.1.1 in /opt/conda/lib/python3.7/site-packages (from werkzeug>=1.0.1->tensorboard>=2.0.0->tbparse) (2.1.2)\n",
      "Requirement already satisfied: zipp>=0.5 in /opt/conda/lib/python3.7/site-packages (from importlib-metadata>=4.4->markdown>=2.6.8->tensorboard>=2.0.0->tbparse) (3.15.0)\n",
      "Requirement already satisfied: typing-extensions>=3.6.4 in /opt/conda/lib/python3.7/site-packages (from importlib-metadata>=4.4->markdown>=2.6.8->tensorboard>=2.0.0->tbparse) (4.3.0)\n",
      "Requirement already satisfied: pyasn1<0.5.0,>=0.4.6 in /opt/conda/lib/python3.7/site-packages (from pyasn1-modules>=0.2.1->google-auth<3,>=1.6.3->tensorboard>=2.0.0->tbparse) (0.4.8)\n",
      "Requirement already satisfied: oauthlib>=3.0.0 in /opt/conda/lib/python3.7/site-packages (from requests-oauthlib>=0.7.0->google-auth-oauthlib<0.5,>=0.4.1->tensorboard>=2.0.0->tbparse) (3.2.2)\n",
      "Installing collected packages: tbparse\n",
      "Successfully installed tbparse-0.0.7\n",
      "Note: you may need to restart the kernel to use updated packages.\n"
     ]
    }
   ],
   "source": [
    "pip install tbparse"
   ]
  },
  {
   "cell_type": "raw",
   "id": "4aac2ad5-fe6f-4166-b893-14cbc052f94d",
   "metadata": {
    "tags": []
   },
   "source": [
    "from tbparse import SummaryReader\n",
    "import matplotlib.pyplot as plt\n",
    "\n",
    "def plot_loss(history, save_path, ylim=[0,25.0], show=False):\n",
    "    fig = plt.subplots(figsize=(15, 9))\n",
    "    plt.plot(history.history[\"loss\"])\n",
    "    plt.plot(history.history[\"val_loss\"])\n",
    "    plt.title(\"The loss curve of training and test datasets\")\n",
    "    plt.legend(['train', 'val'], loc='upper left')\n",
    "    plt.ylabel(\"loss\")\n",
    "    plt.xlabel(\"epoch\")\n",
    "    plt.ylim(ylim)\n",
    "    plt.savefig(save_path, dpi = 300)\n",
    "    if show:\n",
    "        plt.show()\n",
    "    else: \n",
    "        plt.close()"
   ]
  },
  {
   "cell_type": "code",
   "execution_count": 126,
   "id": "22733c59-ca21-4880-bc40-9c3704bd3bd5",
   "metadata": {
    "tags": []
   },
   "outputs": [],
   "source": [
    "from tbparse import SummaryReader\n",
    "import matplotlib.pyplot as plt\n",
    "\n",
    "def plot_loss(tblog_dir, save_path, ylim=None, show=False):\n",
    "    '''\n",
    "    Display a plot by retreaving logs from a Tensorboard dir.\n",
    "\n",
    "    Parameters:\n",
    "        tblog_dir (float): the path to the Tensorboard log folder\n",
    "        save_path (float): the path of the file to save (.jpg)\n",
    "        ylim (list): a list of minimum and maximum values for the y axis (2 values)\n",
    "        show (bool): should be True to display the plot (in notebook). Keep it False for scripting.\n",
    "\n",
    "    '''\n",
    "    \n",
    "    [0,25.0]\n",
    "    \n",
    "    \n",
    "    reader = SummaryReader(log_dir)  # Read the logs from Tensorboard dir\n",
    "    df = reader.scalars  # Read the scalar\n",
    "    # Get train loss\n",
    "    train_loss = df[df[\"tag\"] == 'train_loss']\n",
    "    train_loss.set_index('step', inplace=True)\n",
    "    # Get val loss\n",
    "    val_loss = df[df[\"tag\"] == 'val_loss']\n",
    "    val_loss.set_index('step', inplace=True)\n",
    "    # Plot loss curves\n",
    "    plt.plot(train_loss.loc[:, 'value'])\n",
    "    plt.plot(val_loss.loc[:, 'value'])\n",
    "    plt.title(\"Loss curves\")\n",
    "    plt.legend(['train', 'val'], loc='upper right')\n",
    "    plt.ylabel(\"loss\")\n",
    "    plt.xlabel(\"step\")\n",
    "    if not ylim:\n",
    "        max_loss = max(train_loss.max()['value'],val_loss.max()['value'])\n",
    "        ylim = [0,round(max_loss, 2)+0.1]\n",
    "    plt.ylim(ylim)\n",
    "    plt.savefig(save_path, dpi = 200)\n",
    "    if show:\n",
    "        plt.show()\n",
    "    else: \n",
    "        plt.close()"
   ]
  },
  {
   "cell_type": "code",
   "execution_count": 126,
   "id": "1e9e9fb4-a3f0-4531-9ecb-5572350b91fd",
   "metadata": {
    "tags": []
   },
   "outputs": [],
   "source": [
    "from tbparse import SummaryReader\n",
    "import matplotlib.pyplot as plt\n",
    "\n",
    "def plot_miou(tblog_dir, save_path, ylim=None, show=False):\n",
    "    '''\n",
    "    Display a plot by retreaving logs from a Tensorboard dir.\n",
    "\n",
    "    Parameters:\n",
    "        tblog_dir (float): the path to the Tensorboard log folder\n",
    "        save_path (float): the path of the file to save (.jpg)\n",
    "        ylim (list): a list of minimum and maximum values for the y axis (2 values)\n",
    "        show (bool): should be True to display the plot (in notebook). Keep it False for scripting.\n",
    "\n",
    "    ''' \n",
    "    reader = SummaryReader(log_dir)  # Read the logs from Tensorboard dir\n",
    "    df = reader.scalars  # Read the scalar\n",
    "    # Get train loss\n",
    "    train_loss = df[df[\"tag\"] == 'train_loss']\n",
    "    train_loss.set_index('step', inplace=True)\n",
    "    # Get val loss\n",
    "    val_loss = df[df[\"tag\"] == 'val_loss']\n",
    "    val_loss.set_index('step', inplace=True)\n",
    "    # Plot loss curves\n",
    "    plt.plot(train_loss.loc[:, 'value'])\n",
    "    plt.plot(val_loss.loc[:, 'value'])\n",
    "    plt.title(\"Loss curves\")\n",
    "    plt.legend(['train', 'val'], loc='upper right')\n",
    "    plt.ylabel(\"loss\")\n",
    "    plt.xlabel(\"step\")\n",
    "    if not ylim:\n",
    "        max_loss = max(train_loss.max()['value'],val_loss.max()['value'])\n",
    "        ylim = [0,round(max_loss, 2)+0.1]\n",
    "    plt.ylim(ylim)\n",
    "    plt.savefig(save_path, dpi = 200)\n",
    "    if show:\n",
    "        plt.show()\n",
    "    else: \n",
    "        plt.close()"
   ]
  },
  {
   "cell_type": "code",
   "execution_count": 127,
   "id": "39eea98b-9a81-46af-97df-875ab69a5c0c",
   "metadata": {
    "tags": []
   },
   "outputs": [
    {
     "data": {
      "image/png": "[encoded data removed]",
      "text/plain": [
       "<Figure size 432x288 with 1 Axes>"
      ]
     },
     "metadata": {
      "needs_background": "light"
     },
     "output_type": "display_data"
    }
   ],
   "source": [
    "tblog_dir = \"/home/tgrippa/project/weak_flair/experiments/flair-one-baseline_argu/tensorboard_logs_flair-one-baseline_argu_05_18_50\"\n",
    "plot_path = \"/home/tgrippa/project/weak_flair/experiments/flair-one-baseline_argu/tensorboard_logs_flair-one-baseline_argu_05_18_50/loss.jpg\"\n",
    "plot_loss(tblog_dir, plot_path, show=True)"
   ]
  },
  {
   "cell_type": "code",
   "execution_count": 76,
   "id": "ed015841-110b-4e35-b744-761e2a54b3d3",
   "metadata": {
    "tags": []
   },
   "outputs": [],
   "source": []
  },
  {
   "cell_type": "code",
   "execution_count": 77,
   "id": "a211a596-ae46-427e-ab58-5ba10dc76660",
   "metadata": {
    "tags": []
   },
   "outputs": [],
   "source": []
  },
  {
   "cell_type": "code",
   "execution_count": null,
   "id": "44bd3246-30c3-4414-901d-6eb220ee34f6",
   "metadata": {},
   "outputs": [],
   "source": []
  },
  {
   "cell_type": "code",
   "execution_count": null,
   "id": "b7eaa19f-281e-497f-ae31-513d3baedca8",
   "metadata": {},
   "outputs": [],
   "source": []
  }
 ],
 "metadata": {
  "kernelspec": {
   "display_name": "Python 3 (ipykernel)",
   "language": "python",
   "name": "python3"
  },
  "language_info": {
   "codemirror_mode": {
    "name": "ipython",
    "version": 3
   },
   "file_extension": ".py",
   "mimetype": "text/x-python",
   "name": "python",
   "nbconvert_exporter": "python",
   "pygments_lexer": "ipython3",
   "version": "3.7.13"
  }
 },
 "nbformat": 4,
 "nbformat_minor": 5
}
