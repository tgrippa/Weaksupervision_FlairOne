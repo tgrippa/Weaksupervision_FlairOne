{
 "cells": [
  {
   "cell_type": "code",
   "execution_count": 90,
   "id": "92bbfecf-f67b-4407-95c9-535f37b7c702",
   "metadata": {
    "tags": []
   },
   "outputs": [],
   "source": [
    "import fnmatch\n",
    "\n",
    "def find_files(path, pattern):\n",
    "    for root, dirs, files in os.walk(path):\n",
    "        for file in fnmatch.filter(files, pattern):\n",
    "            yield os.path.join(root, file)"
   ]
  },
  {
   "cell_type": "code",
   "execution_count": 91,
   "id": "ea67655e-4fd8-41a6-be92-1508187bea09",
   "metadata": {
    "tags": []
   },
   "outputs": [],
   "source": [
    "import numpy as np\n",
    "import matplotlib.pyplot as plt\n",
    "from PIL import Image\n",
    "\n",
    "def compute_class_distribution(list_tiff, plot=False):\n",
    "    \"\"\"\n",
    "    Computes the class distribution of a NumPy array and optionally plots the results.\n",
    "    \n",
    "    Args:\n",
    "        array (ndarray): The input NumPy array.\n",
    "        plot (bool): Whether to plot the class distribution or not. Default is False.\n",
    "        \n",
    "    Returns:\n",
    "        dict: A dictionary containing the class distribution, where the keys are the unique\n",
    "              classes and the values are the corresponding counts.\n",
    "    \"\"\"\n",
    "    \n",
    "    final_array = np.empty(1)\n",
    "    \n",
    "    for tiff in list_tiff:\n",
    "        # Open the TIFF image using PIL\n",
    "        image = Image.open(tiff)\n",
    "\n",
    "        # Convert the image to a NumPy array\n",
    "        image_array = np.array(image)\n",
    "    \n",
    "        # Flatten the array to a 1D array\n",
    "        flat_array = image_array.ravel()\n",
    "    \n",
    "        # Append the current array to final array\n",
    "        final_array = np.append(final_array, flat_array.ravel())\n",
    "        \n",
    "    # Compute the unique classes and their counts\n",
    "    classes, counts = np.unique(final_array, return_counts=True)\n",
    "\n",
    "    # Create a dictionary to store the class distribution\n",
    "    class_distribution = dict(zip(classes, counts))\n",
    "    \n",
    "    # Force the output to avoid \"null\" values in the dataset\n",
    "    class_distribution = {key:value for (key,value) in class_distribution.items() if key in [1,2,3,4,5,6,7,8,9,10,11,12,13]}\n",
    "\n",
    "    # Plot the class distribution if requested\n",
    "    if plot:\n",
    "        # Create the bar chart\n",
    "        plt.bar(classes, counts)\n",
    "\n",
    "        # Add labels and title\n",
    "        plt.xlabel('Class')\n",
    "        plt.ylabel('Count')\n",
    "        plt.title('Class Distribution')\n",
    "        x = [1,2,3,4,5,6,7,8,9,10,11,12,13]\n",
    "        default_x_ticks = range(len(x))\n",
    "        plt.xticks(default_x_ticks, x)\n",
    "        plt.xlim(0.0, 13.0)\n",
    "\n",
    "        # Show the plot\n",
    "        plt.show()\n",
    "    \n",
    "    return class_distribution\n"
   ]
  },
  {
   "cell_type": "markdown",
   "id": "ce62edc1-a9d3-44bf-a718-eaca5be00280",
   "metadata": {},
   "source": [
    "# Class distribution"
   ]
  },
  {
   "cell_type": "markdown",
   "id": "75494977-016c-4794-b11d-7191bdf6d7cb",
   "metadata": {},
   "source": [
    "## Train distribution"
   ]
  },
  {
   "cell_type": "code",
   "execution_count": 92,
   "id": "49dbd3bf-91fc-40f9-aa7b-91a15b7f1388",
   "metadata": {
    "tags": []
   },
   "outputs": [
    {
     "name": "stdout",
     "output_type": "stream",
     "text": [
      "There are 2950 train images\n"
     ]
    }
   ],
   "source": [
    "# Get a list of path to train images\n",
    "train_folder = '/home/tgrippa/project/weak_flair/subset_dataset/train'\n",
    "train_tupple = [(os.path.split(x)[-1].split('.tif')[0],x) for x in find_files(train_folder, \"MSK_*.tif\")]\n",
    "print(f'There are {len(train_tupple)} train images')"
   ]
  },
  {
   "cell_type": "code",
   "execution_count": 94,
   "id": "60d5d480-34a8-43c7-aa01-f8857b80f758",
   "metadata": {
    "tags": []
   },
   "outputs": [
    {
     "data": {
      "image/png": "[encoded data removed]",
      "text/plain": [
       "<Figure size 432x288 with 1 Axes>"
      ]
     },
     "metadata": {
      "needs_background": "light"
     },
     "output_type": "display_data"
    }
   ],
   "source": [
    "list_tiff = [x[1] for x in train_tupple[:]]\n",
    "class_distribution = compute_class_distribution(list_tiff, plot=True)"
   ]
  },
  {
   "cell_type": "markdown",
   "id": "c2c6f953-e7de-4d1a-89a0-f9c5af1ba50a",
   "metadata": {},
   "source": [
    "## Test distribution"
   ]
  },
  {
   "cell_type": "code",
   "execution_count": 85,
   "id": "ca636b83-30ab-460d-83f7-0939d2046d5c",
   "metadata": {
    "tags": []
   },
   "outputs": [
    {
     "name": "stdout",
     "output_type": "stream",
     "text": [
      "There are 500 test images\n"
     ]
    }
   ],
   "source": [
    "# Get a list of path to train images\n",
    "train_folder = '/home/tgrippa/project/weak_flair/subset_dataset/test'\n",
    "train_tupple = [(os.path.split(x)[-1].split('.tif')[0],x) for x in find_files(train_folder, \"MSK_*.tif\")]\n",
    "print(f'There are {len(train_tupple)} test images')"
   ]
  },
  {
   "cell_type": "code",
   "execution_count": 86,
   "id": "a0512df1-316b-48ca-8ee6-98f67a8b8cc9",
   "metadata": {
    "tags": []
   },
   "outputs": [
    {
     "data": {
      "image/png": "[encoded data removed]",
      "text/plain": [
       "<Figure size 432x288 with 1 Axes>"
      ]
     },
     "metadata": {
      "needs_background": "light"
     },
     "output_type": "display_data"
    }
   ],
   "source": [
    "list_tiff = [x[1] for x in train_tupple[:]]\n",
    "class_distribution = compute_class_distribution(list_tiff, plot=True)"
   ]
  },
  {
   "cell_type": "code",
   "execution_count": null,
   "id": "9ae60c39-a989-434e-b55c-c3b7f3008126",
   "metadata": {},
   "outputs": [],
   "source": []
  },
  {
   "cell_type": "markdown",
   "id": "e619028a-c13e-4dd9-973a-46b9d45637ee",
   "metadata": {},
   "source": [
    "# Class distribution on NDVI"
   ]
  },
  {
   "cell_type": "code",
   "execution_count": null,
   "id": "a891cde5-be02-4069-a24f-ed1fdc98def0",
   "metadata": {},
   "outputs": [],
   "source": [
    "import pandas as pd\n",
    "import matplotlib.pyplot as plt\n",
    "\n",
    "def plot_curves_from_csv(file_list, class_column, x_column, y_column):\n",
    "    \"\"\"\n",
    "    Reads a list of CSV files containing statistics tables and plots different curves based on the different classes.\n",
    "    \n",
    "    Args:\n",
    "        file_list (list): List of file paths to CSV files.\n",
    "        class_column (str): Column name containing the classes.\n",
    "        x_column (str): Column name containing the x-values for the curves.\n",
    "        y_column (str): Column name containing the y-values for the curves.\n",
    "    \"\"\"\n",
    "    # Create an empty dictionary to store the data frames for each class\n",
    "    class_data = {}\n",
    "    \n",
    "    # Iterate over the file list\n",
    "    for file in file_list:\n",
    "        # Read the CSV file into a data frame\n",
    "        df = pd.read_csv(file)\n",
    "        \n",
    "        # Get the unique classes in the class column\n",
    "        classes = df[class_column].unique()\n",
    "        \n",
    "        # Iterate over the classes\n",
    "        for class_name in classes:\n",
    "            # Filter the data frame for the current class\n",
    "            class_df = df[df[class_column] == class_name]\n",
    "            \n",
    "            # Retrieve the x and y values for the current class\n",
    "            x_values = class_df[x_column]\n",
    "            y_values = class_df[y_column]\n",
    "            \n",
    "            # Plot the curve for the current class\n",
    "            plt.plot(x_values, y_values, label=class_name)\n",
    "            \n",
    "            # Store the data frame for the current class\n",
    "            if class_name in class_data:\n",
    "                class_data[class_name].append(class_df)\n",
    "            else:\n",
    "                class_data[class_name] = [class_df]\n",
    "    \n",
    "    # Set the plot title and labels\n",
    "    plt.title('Curves for Different Classes')\n",
    "    plt.xlabel(x_column)\n",
    "    plt.ylabel(y_column)\n",
    "    \n",
    "    # Display the legend\n",
    "    plt.legend()\n",
    "    \n",
    "    # Show the plot\n",
    "    plt.show()\n",
    "    \n",
    "    # Return the dictionary of data frames for each class\n",
    "    return class_data\n"
   ]
  },
  {
   "cell_type": "code",
   "execution_count": 96,
   "id": "c0beadd2-a740-40e8-8998-942bb10d8213",
   "metadata": {
    "tags": []
   },
   "outputs": [
    {
     "name": "stdout",
     "output_type": "stream",
     "text": [
      "There are 439 csv\n"
     ]
    }
   ],
   "source": [
    "# Get a list of path to train images\n",
    "train_folder = '/home/tgrippa/project/grass_results/stats'\n",
    "train_tupple = [(os.path.split(x)[-1].split('.tif')[0],x) for x in find_files(train_folder, \"stats_IMG_*.csv\")]\n",
    "print(f'There are {len(train_tupple)} csv')"
   ]
  },
  {
   "cell_type": "code",
   "execution_count": null,
   "id": "e0793796-8371-48af-b23a-b2eecd92bdc2",
   "metadata": {},
   "outputs": [],
   "source": [
    "plot_curves_from_csv(file_list, class_column, x_column, y_column)"
   ]
  },
  {
   "cell_type": "code",
   "execution_count": null,
   "id": "0e7327a1-8efa-445e-95e0-a72a10040ef0",
   "metadata": {},
   "outputs": [],
   "source": []
  },
  {
   "cell_type": "code",
   "execution_count": null,
   "id": "45c81349-a903-4aea-8cf0-54ba9bb9a477",
   "metadata": {},
   "outputs": [],
   "source": []
  }
 ],
 "metadata": {
  "kernelspec": {
   "display_name": "Python 3 (ipykernel)",
   "language": "python",
   "name": "python3"
  },
  "language_info": {
   "codemirror_mode": {
    "name": "ipython",
    "version": 3
   },
   "file_extension": ".py",
   "mimetype": "text/x-python",
   "name": "python",
   "nbconvert_exporter": "python",
   "pygments_lexer": "ipython3",
   "version": "3.7.13"
  }
 },
 "nbformat": 4,
 "nbformat_minor": 5
}
