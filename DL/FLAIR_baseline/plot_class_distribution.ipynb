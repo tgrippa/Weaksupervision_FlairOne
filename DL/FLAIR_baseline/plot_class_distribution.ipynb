{
 "cells": [
  {
   "cell_type": "code",
   "execution_count": 1,
   "id": "87245e7f-0fdb-4ef1-b319-9fbfc0eadafa",
   "metadata": {},
   "outputs": [],
   "source": [
    "import os"
   ]
  },
  {
   "cell_type": "code",
   "execution_count": 2,
   "id": "92bbfecf-f67b-4407-95c9-535f37b7c702",
   "metadata": {
    "tags": []
   },
   "outputs": [],
   "source": [
    "import fnmatch\n",
    "\n",
    "def find_files(path, pattern):\n",
    "    for root, dirs, files in os.walk(path):\n",
    "        for file in fnmatch.filter(files, pattern):\n",
    "            yield os.path.join(root, file)"
   ]
  },
  {
   "cell_type": "code",
   "execution_count": 3,
   "id": "ea67655e-4fd8-41a6-be92-1508187bea09",
   "metadata": {
    "tags": []
   },
   "outputs": [],
   "source": [
    "import numpy as np\n",
    "import matplotlib.pyplot as plt\n",
    "from PIL import Image\n",
    "\n",
    "def compute_class_distribution(list_tiff, plot=False):\n",
    "    \"\"\"\n",
    "    Computes the class distribution of a NumPy array and optionally plots the results.\n",
    "    \n",
    "    Args:\n",
    "        array (ndarray): The input NumPy array.\n",
    "        plot (bool): Whether to plot the class distribution or not. Default is False.\n",
    "        \n",
    "    Returns:\n",
    "        dict: A dictionary containing the class distribution, where the keys are the unique\n",
    "              classes and the values are the corresponding counts.\n",
    "    \"\"\"\n",
    "    \n",
    "    final_array = np.empty(1)\n",
    "    \n",
    "    for tiff in list_tiff:\n",
    "        # Open the TIFF image using PIL\n",
    "        image = Image.open(tiff)\n",
    "\n",
    "        # Convert the image to a NumPy array\n",
    "        image_array = np.array(image)\n",
    "    \n",
    "        # Flatten the array to a 1D array\n",
    "        flat_array = image_array.ravel()\n",
    "    \n",
    "        # Append the current array to final array\n",
    "        final_array = np.append(final_array, flat_array.ravel())\n",
    "        \n",
    "    # Compute the unique classes and their counts\n",
    "    classes, counts = np.unique(final_array, return_counts=True)\n",
    "\n",
    "    # Create a dictionary to store the class distribution\n",
    "    class_distribution = dict(zip(classes, counts))\n",
    "    \n",
    "    # Force the output to avoid \"null\" values in the dataset\n",
    "    class_distribution = {key:value for (key,value) in class_distribution.items() if key in [1,2,3,4,5,6,7,8,9,10,11,12,13]}\n",
    "\n",
    "    # Plot the class distribution if requested\n",
    "    if plot:\n",
    "        # Create the bar chart\n",
    "        plt.bar(classes, counts)\n",
    "\n",
    "        # Add labels and title\n",
    "        plt.xlabel('Class')\n",
    "        plt.ylabel('Count')\n",
    "        plt.title('Class Distribution')\n",
    "        x = [1,2,3,4,5,6,7,8,9,10,11,12,13]\n",
    "        default_x_ticks = range(len(x))\n",
    "        plt.xticks(default_x_ticks, x)\n",
    "        plt.xlim(0.0, 13.0)\n",
    "\n",
    "        # Show the plot\n",
    "        plt.show()\n",
    "    \n",
    "    return class_distribution\n"
   ]
  },
  {
   "cell_type": "markdown",
   "id": "ce62edc1-a9d3-44bf-a718-eaca5be00280",
   "metadata": {},
   "source": [
    "# Class distribution"
   ]
  },
  {
   "cell_type": "markdown",
   "id": "75494977-016c-4794-b11d-7191bdf6d7cb",
   "metadata": {},
   "source": [
    "## Train distribution"
   ]
  },
  {
   "cell_type": "code",
   "execution_count": 4,
   "id": "49dbd3bf-91fc-40f9-aa7b-91a15b7f1388",
   "metadata": {
    "tags": []
   },
   "outputs": [
    {
     "name": "stdout",
     "output_type": "stream",
     "text": [
      "There are 0 train images\n"
     ]
    }
   ],
   "source": [
    "# Get a list of path to train images\n",
    "train_folder = '/home/tgrippa/project/weak_flair/subset_dataset/train'\n",
    "train_tupple = [(os.path.split(x)[-1].split('.tif')[0],x) for x in find_files(train_folder, \"MSK_*.tif\")]\n",
    "print(f'There are {len(train_tupple)} train images')"
   ]
  },
  {
   "cell_type": "code",
   "execution_count": 94,
   "id": "60d5d480-34a8-43c7-aa01-f8857b80f758",
   "metadata": {
    "tags": []
   },
   "outputs": [
    {
     "data": {
      "image/png": "[encoded data removed]",
      "text/plain": [
       "<Figure size 432x288 with 1 Axes>"
      ]
     },
     "metadata": {
      "needs_background": "light"
     },
     "output_type": "display_data"
    }
   ],
   "source": [
    "list_tiff = [x[1] for x in train_tupple[:]]\n",
    "class_distribution = compute_class_distribution(list_tiff, plot=True)"
   ]
  },
  {
   "cell_type": "markdown",
   "id": "c2c6f953-e7de-4d1a-89a0-f9c5af1ba50a",
   "metadata": {},
   "source": [
    "## Test distribution"
   ]
  },
  {
   "cell_type": "code",
   "execution_count": 85,
   "id": "ca636b83-30ab-460d-83f7-0939d2046d5c",
   "metadata": {
    "tags": []
   },
   "outputs": [
    {
     "name": "stdout",
     "output_type": "stream",
     "text": [
      "There are 500 test images\n"
     ]
    }
   ],
   "source": [
    "# Get a list of path to train images\n",
    "train_folder = '/home/tgrippa/project/weak_flair/subset_dataset/test'\n",
    "train_tupple = [(os.path.split(x)[-1].split('.tif')[0],x) for x in find_files(train_folder, \"MSK_*.tif\")]\n",
    "print(f'There are {len(train_tupple)} test images')"
   ]
  },
  {
   "cell_type": "code",
   "execution_count": 86,
   "id": "a0512df1-316b-48ca-8ee6-98f67a8b8cc9",
   "metadata": {
    "tags": []
   },
   "outputs": [
    {
     "data": {
      "image/png": "[encoded data removed]",
      "text/plain": [
       "<Figure size 432x288 with 1 Axes>"
      ]
     },
     "metadata": {
      "needs_background": "light"
     },
     "output_type": "display_data"
    }
   ],
   "source": [
    "list_tiff = [x[1] for x in train_tupple[:]]\n",
    "class_distribution = compute_class_distribution(list_tiff, plot=True)"
   ]
  },
  {
   "cell_type": "markdown",
   "id": "e619028a-c13e-4dd9-973a-46b9d45637ee",
   "metadata": {},
   "source": [
    "# Class distribution on NDVI"
   ]
  },
  {
   "cell_type": "code",
   "execution_count": 12,
   "id": "a891cde5-be02-4069-a24f-ed1fdc98def0",
   "metadata": {},
   "outputs": [],
   "source": [
    "import pandas as pd\n",
    "import matplotlib.pyplot as plt\n",
    "\n",
    "def plot_density_curves_from_csv(csvfile_list, class_column, x_column):\n",
    "    \"\"\"\n",
    "    Reads a list of CSV files containing statistics tables and plots different curves based on the different classes.\n",
    "    \n",
    "    Args:\n",
    "        csvfile_list (list): List of file paths to CSV files.\n",
    "        class_column (str): Column name containing the classes.\n",
    "        x_column (str): Column name containing the x-values for the curves.\n",
    "    \"\"\"\n",
    "    # Create an empty dictionary to store the data frames for each class\n",
    "    class_data = {}\n",
    "    \n",
    "    # Iterate over the file list\n",
    "    for file in csvfile_list:\n",
    "        # Read the CSV file into a data frame\n",
    "        df = pd.read_csv(file)\n",
    "        \n",
    "        # Get the unique classes in the class column\n",
    "        classes = df[class_column].unique()\n",
    "        \n",
    "        # Iterate over the classes\n",
    "        for class_name in classes:\n",
    "            # Filter the data frame for the current class\n",
    "            class_df = df[df[class_column] == class_name]\n",
    "            \n",
    "            # Retrieve the x values for the current class\n",
    "            x_values = class_df[x_column]\n",
    "                       \n",
    "            # Store the data frame for the current class\n",
    "            if class_name in class_data:\n",
    "                class_data[class_name].append(class_df)\n",
    "            else:\n",
    "                class_data[class_name] = [class_df]\n",
    "\n",
    "    # Draw the density plot\n",
    "#    sns.distplot(subset['arr_delay'], hist = False, kde = True, kde_kws = {'linewidth': 3}, label = airline)\n",
    "                 \n",
    "#    # Set the plot title and labels\n",
    "#    plt.title('Curves for Different Classes')\n",
    "#    plt.xlabel(x_column)\n",
    "#    plt.ylabel(y_column)\n",
    "#    \n",
    "#    # Display the legend\n",
    "#    plt.legend()\n",
    "#    \n",
    "#    # Show the plot\n",
    "#    plt.show()\n",
    "    \n",
    "    # Return the dictionary of data frames for each class\n",
    "    return class_data"
   ]
  },
  {
   "cell_type": "code",
   "execution_count": 8,
   "id": "c0beadd2-a740-40e8-8998-942bb10d8213",
   "metadata": {
    "tags": []
   },
   "outputs": [
    {
     "name": "stdout",
     "output_type": "stream",
     "text": [
      "There are 2950 csv\n"
     ]
    }
   ],
   "source": [
    "# Get a list of path to train images\n",
    "train_folder = '/home/tais/result/stats'\n",
    "#train_tupple = [(os.path.split(x)[-1].split('.tif')[0],x) for x in find_files(train_folder, \"stats_IMG_*.csv\")]\n",
    "train_tupple = [x for x in find_files(train_folder, \"stats_IMG_*.csv\")]\n",
    "print(f'There are {len(train_tupple)} csv')"
   ]
  },
  {
   "cell_type": "code",
   "execution_count": 10,
   "id": "85d88ea6-81e5-4e4c-b2da-a0a70862ac11",
   "metadata": {},
   "outputs": [
    {
     "data": {
      "text/plain": [
       "'/home/tais/result/stats/stats_IMG_028689.csv'"
      ]
     },
     "execution_count": 10,
     "metadata": {},
     "output_type": "execute_result"
    }
   ],
   "source": [
    "train_tupple[0]"
   ]
  },
  {
   "cell_type": "code",
   "execution_count": null,
   "id": "e0793796-8371-48af-b23a-b2eecd92bdc2",
   "metadata": {},
   "outputs": [],
   "source": [
    "plot_density_curves_from_csv(train_tupple[:5], \"gts_label\", \"ndvi_median\")"
   ]
  },
  {
   "cell_type": "code",
   "execution_count": 36,
   "id": "45c81349-a903-4aea-8cf0-54ba9bb9a477",
   "metadata": {},
   "outputs": [],
   "source": [
    "csvfile_list = train_tupple[:10]\n",
    "class_column = \"gts_label\"\n",
    "x_column = \"ndvi_median\""
   ]
  },
  {
   "cell_type": "code",
   "execution_count": 41,
   "id": "9586c727-ea21-4687-a571-e081d03258fe",
   "metadata": {},
   "outputs": [],
   "source": [
    "# Create an empty dictionary to store the data frames for each class\n",
    "class_data = {}\n",
    "\n",
    "# Iterate over the file list\n",
    "for file in csvfile_list:\n",
    "    # Read the CSV file into a data frame\n",
    "    df = pd.read_csv(file)\n",
    "    \n",
    "    # Get the unique classes in the class column\n",
    "    classes = df[class_column].unique()\n",
    "    \n",
    "    # Iterate over the classes\n",
    "    for class_name in classes:\n",
    "        # Filter the data frame for the current class\n",
    "        class_df = df[df[class_column] == class_name]\n",
    "        \n",
    "        # Retrieve the x values for the current class\n",
    "        x_values = class_df[x_column]\n",
    "                   \n",
    "        # Store the data frame for the current class\n",
    "        if class_name not in class_data:\n",
    "            class_data[class_name] = []        \n",
    "        [class_data[class_name].append(x) for x in x_values]\n",
    "\n",
    "# plot the density graph\n",
    "sns.kdeplot(data, bw_adjust=.2, x=\"ndvi_median\", hue=\"gts_label\", palette=\"tab20\")"
   ]
  },
  {
   "cell_type": "code",
   "execution_count": 42,
   "id": "b582b48e-79f7-4c2e-a3fd-6041f309dafd",
   "metadata": {},
   "outputs": [
    {
     "data": {
      "text/html": [
       "<div>\n",
       "<style scoped>\n",
       "    .dataframe tbody tr th:only-of-type {\n",
       "        vertical-align: middle;\n",
       "    }\n",
       "\n",
       "    .dataframe tbody tr th {\n",
       "        vertical-align: top;\n",
       "    }\n",
       "\n",
       "    .dataframe thead th {\n",
       "        text-align: right;\n",
       "    }\n",
       "</style>\n",
       "<table border=\"1\" class=\"dataframe\">\n",
       "  <thead>\n",
       "    <tr style=\"text-align: right;\">\n",
       "      <th></th>\n",
       "      <th>cat</th>\n",
       "      <th>area</th>\n",
       "      <th>perimeter</th>\n",
       "      <th>compact_circle</th>\n",
       "      <th>compact_square</th>\n",
       "      <th>fd</th>\n",
       "      <th>red_stddev</th>\n",
       "      <th>red_coeff_var</th>\n",
       "      <th>red_sum</th>\n",
       "      <th>red_median</th>\n",
       "      <th>...</th>\n",
       "      <th>text_red_IDM_coeff_var</th>\n",
       "      <th>text_red_IDM_sum</th>\n",
       "      <th>text_red_IDM_median</th>\n",
       "      <th>text_red_IDM_perc_90</th>\n",
       "      <th>text_nir_DE_stddev</th>\n",
       "      <th>text_nir_DE_coeff_var</th>\n",
       "      <th>text_nir_DE_sum</th>\n",
       "      <th>text_nir_DE_median</th>\n",
       "      <th>text_nir_DE_perc_90</th>\n",
       "      <th>gts_label</th>\n",
       "    </tr>\n",
       "  </thead>\n",
       "  <tbody>\n",
       "    <tr>\n",
       "      <th>0</th>\n",
       "      <td>-1052771071</td>\n",
       "      <td>108</td>\n",
       "      <td>70</td>\n",
       "      <td>1.900121</td>\n",
       "      <td>0.593846</td>\n",
       "      <td>1.814766</td>\n",
       "      <td>8.651117</td>\n",
       "      <td>7.022327</td>\n",
       "      <td>13305</td>\n",
       "      <td>124.0</td>\n",
       "      <td>...</td>\n",
       "      <td>26.452905</td>\n",
       "      <td>19.302865</td>\n",
       "      <td>0.197508</td>\n",
       "      <td>0.224976</td>\n",
       "      <td>0.252690</td>\n",
       "      <td>8.584114</td>\n",
       "      <td>317.918802</td>\n",
       "      <td>2.94966</td>\n",
       "      <td>3.31472</td>\n",
       "      <td>3</td>\n",
       "    </tr>\n",
       "    <tr>\n",
       "      <th>1</th>\n",
       "      <td>-1052771070</td>\n",
       "      <td>737</td>\n",
       "      <td>204</td>\n",
       "      <td>2.119783</td>\n",
       "      <td>0.532309</td>\n",
       "      <td>1.610920</td>\n",
       "      <td>4.454432</td>\n",
       "      <td>4.190333</td>\n",
       "      <td>78345</td>\n",
       "      <td>105.0</td>\n",
       "      <td>...</td>\n",
       "      <td>31.385248</td>\n",
       "      <td>303.452561</td>\n",
       "      <td>0.422335</td>\n",
       "      <td>0.569117</td>\n",
       "      <td>0.694981</td>\n",
       "      <td>37.389714</td>\n",
       "      <td>1369.897694</td>\n",
       "      <td>1.67645</td>\n",
       "      <td>2.91051</td>\n",
       "      <td>3</td>\n",
       "    </tr>\n",
       "    <tr>\n",
       "      <th>2</th>\n",
       "      <td>-1052771069</td>\n",
       "      <td>140</td>\n",
       "      <td>94</td>\n",
       "      <td>2.241088</td>\n",
       "      <td>0.503496</td>\n",
       "      <td>1.838777</td>\n",
       "      <td>10.507963</td>\n",
       "      <td>13.290405</td>\n",
       "      <td>11069</td>\n",
       "      <td>78.5</td>\n",
       "      <td>...</td>\n",
       "      <td>24.212776</td>\n",
       "      <td>23.984849</td>\n",
       "      <td>0.158677</td>\n",
       "      <td>0.229196</td>\n",
       "      <td>0.404575</td>\n",
       "      <td>14.431672</td>\n",
       "      <td>392.473819</td>\n",
       "      <td>2.75078</td>\n",
       "      <td>3.36152</td>\n",
       "      <td>3</td>\n",
       "    </tr>\n",
       "    <tr>\n",
       "      <th>3</th>\n",
       "      <td>-1052771068</td>\n",
       "      <td>132</td>\n",
       "      <td>66</td>\n",
       "      <td>1.620511</td>\n",
       "      <td>0.696311</td>\n",
       "      <td>1.716084</td>\n",
       "      <td>4.075976</td>\n",
       "      <td>7.789616</td>\n",
       "      <td>6907</td>\n",
       "      <td>52.0</td>\n",
       "      <td>...</td>\n",
       "      <td>24.426507</td>\n",
       "      <td>34.069302</td>\n",
       "      <td>0.256738</td>\n",
       "      <td>0.336748</td>\n",
       "      <td>0.437730</td>\n",
       "      <td>18.500272</td>\n",
       "      <td>312.321861</td>\n",
       "      <td>2.20766</td>\n",
       "      <td>3.08060</td>\n",
       "      <td>3</td>\n",
       "    </tr>\n",
       "    <tr>\n",
       "      <th>4</th>\n",
       "      <td>-1052771067</td>\n",
       "      <td>646</td>\n",
       "      <td>248</td>\n",
       "      <td>2.752520</td>\n",
       "      <td>0.409944</td>\n",
       "      <td>1.704095</td>\n",
       "      <td>2.177803</td>\n",
       "      <td>5.435042</td>\n",
       "      <td>25885</td>\n",
       "      <td>40.0</td>\n",
       "      <td>...</td>\n",
       "      <td>21.217105</td>\n",
       "      <td>350.127185</td>\n",
       "      <td>0.566513</td>\n",
       "      <td>0.649218</td>\n",
       "      <td>0.479729</td>\n",
       "      <td>46.199015</td>\n",
       "      <td>670.803828</td>\n",
       "      <td>0.94405</td>\n",
       "      <td>1.75766</td>\n",
       "      <td>3</td>\n",
       "    </tr>\n",
       "  </tbody>\n",
       "</table>\n",
       "<p>5 rows × 62 columns</p>\n",
       "</div>"
      ],
      "text/plain": [
       "          cat  area  perimeter  compact_circle  compact_square        fd  \\\n",
       "0 -1052771071   108         70        1.900121        0.593846  1.814766   \n",
       "1 -1052771070   737        204        2.119783        0.532309  1.610920   \n",
       "2 -1052771069   140         94        2.241088        0.503496  1.838777   \n",
       "3 -1052771068   132         66        1.620511        0.696311  1.716084   \n",
       "4 -1052771067   646        248        2.752520        0.409944  1.704095   \n",
       "\n",
       "   red_stddev  red_coeff_var  red_sum  red_median  ...  \\\n",
       "0    8.651117       7.022327    13305       124.0  ...   \n",
       "1    4.454432       4.190333    78345       105.0  ...   \n",
       "2   10.507963      13.290405    11069        78.5  ...   \n",
       "3    4.075976       7.789616     6907        52.0  ...   \n",
       "4    2.177803       5.435042    25885        40.0  ...   \n",
       "\n",
       "   text_red_IDM_coeff_var  text_red_IDM_sum  text_red_IDM_median  \\\n",
       "0               26.452905         19.302865             0.197508   \n",
       "1               31.385248        303.452561             0.422335   \n",
       "2               24.212776         23.984849             0.158677   \n",
       "3               24.426507         34.069302             0.256738   \n",
       "4               21.217105        350.127185             0.566513   \n",
       "\n",
       "   text_red_IDM_perc_90  text_nir_DE_stddev  text_nir_DE_coeff_var  \\\n",
       "0              0.224976            0.252690               8.584114   \n",
       "1              0.569117            0.694981              37.389714   \n",
       "2              0.229196            0.404575              14.431672   \n",
       "3              0.336748            0.437730              18.500272   \n",
       "4              0.649218            0.479729              46.199015   \n",
       "\n",
       "   text_nir_DE_sum  text_nir_DE_median  text_nir_DE_perc_90  gts_label  \n",
       "0       317.918802             2.94966              3.31472          3  \n",
       "1      1369.897694             1.67645              2.91051          3  \n",
       "2       392.473819             2.75078              3.36152          3  \n",
       "3       312.321861             2.20766              3.08060          3  \n",
       "4       670.803828             0.94405              1.75766          3  \n",
       "\n",
       "[5 rows x 62 columns]"
      ]
     },
     "execution_count": 42,
     "metadata": {},
     "output_type": "execute_result"
    }
   ],
   "source": [
    "df.head(5)"
   ]
  },
  {
   "cell_type": "code",
   "execution_count": 43,
   "id": "32fb4231-4e42-4cd7-a255-306ae8428229",
   "metadata": {},
   "outputs": [
    {
     "data": {
      "text/plain": [
       "dict_keys([3, 1, 10, 7, 8, 2, 6, 13, 5, 4, 11, 19])"
      ]
     },
     "execution_count": 43,
     "metadata": {},
     "output_type": "execute_result"
    }
   ],
   "source": [
    "class_data.keys()"
   ]
  },
  {
   "cell_type": "code",
   "execution_count": 54,
   "id": "3d57c5eb-c75a-47c4-b5eb-8a638075adb3",
   "metadata": {},
   "outputs": [
    {
     "data": {
      "text/plain": [
       "<AxesSubplot:ylabel='Density'>"
      ]
     },
     "execution_count": 54,
     "metadata": {},
     "output_type": "execute_result"
    },
    {
     "data": {
      "image/png": "[encoded data removed]",
      "text/plain": [
       "<Figure size 432x288 with 1 Axes>"
      ]
     },
     "metadata": {
      "needs_background": "light"
     },
     "output_type": "display_data"
    }
   ],
   "source": [
    "import seaborn as sns\n",
    "sns.kdeplot(class_data[3], bw_adjust=.2, hue=\"time\")"
   ]
  },
  {
   "cell_type": "code",
   "execution_count": 57,
   "id": "62209144-f7cc-452d-9031-ba0c18ec5082",
   "metadata": {},
   "outputs": [],
   "source": [
    "data = pd.read_csv(file)"
   ]
  },
  {
   "cell_type": "code",
   "execution_count": 66,
   "id": "f620883a-ac02-4afd-b631-b98a16200c2b",
   "metadata": {},
   "outputs": [
    {
     "data": {
      "text/plain": [
       "<AxesSubplot:xlabel='ndvi_median', ylabel='Density'>"
      ]
     },
     "execution_count": 66,
     "metadata": {},
     "output_type": "execute_result"
    },
    {
     "data": {
      "image/png": "[encoded data removed]",
      "text/plain": [
       "<Figure size 432x288 with 1 Axes>"
      ]
     },
     "metadata": {
      "needs_background": "light"
     },
     "output_type": "display_data"
    }
   ],
   "source": [
    "sns.kdeplot(data, bw_adjust=.2, x=\"ndvi_median\", hue=\"gts_label\", palette=\"tab20\")"
   ]
  },
  {
   "cell_type": "code",
   "execution_count": null,
   "id": "3d2b690c-cbba-4575-aba4-dac2ec0fd8b4",
   "metadata": {},
   "outputs": [],
   "source": []
  }
 ],
 "metadata": {
  "kernelspec": {
   "display_name": "Python 3 (ipykernel)",
   "language": "python",
   "name": "python3"
  },
  "language_info": {
   "codemirror_mode": {
    "name": "ipython",
    "version": 3
   },
   "file_extension": ".py",
   "mimetype": "text/x-python",
   "name": "python",
   "nbconvert_exporter": "python",
   "pygments_lexer": "ipython3",
   "version": "3.10.6"
  }
 },
 "nbformat": 4,
 "nbformat_minor": 5
}
