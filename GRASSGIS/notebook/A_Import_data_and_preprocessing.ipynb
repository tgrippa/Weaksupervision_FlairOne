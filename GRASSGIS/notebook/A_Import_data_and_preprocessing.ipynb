{
 "cells": [
  {
   "cell_type": "markdown",
   "metadata": {},
   "source": [
    "This python code has been developped by [Taïs Grippa](https://github.com/tgrippa) (Université Libre de Bruxelles). \n",
    "\n",
    "Code developped on Ubuntu 22.04 (Ubuntu Jammy) and GRASS GIS 8.0.2 using the Docker environment [available here](https://github.com/tgrippa/Weaksupervision_Vaihingen)."
   ]
  },
  {
   "cell_type": "markdown",
   "metadata": {},
   "source": [
    "# Define working environment"
   ]
  },
  {
   "cell_type": "markdown",
   "metadata": {},
   "source": [
    "**Import libraries**"
   ]
  },
  {
   "cell_type": "code",
   "execution_count": 1,
   "metadata": {},
   "outputs": [
    {
     "name": "stdout",
     "output_type": "stream",
     "text": [
      "3.10.4 (main, Jun 29 2022, 12:14:53) [GCC 11.2.0]\n"
     ]
    }
   ],
   "source": [
    "# Import libraries needed for setting parameters of operating system \n",
    "import os\n",
    "import sys\n",
    "import csv\n",
    "import tempfile\n",
    "import glob\n",
    "import math\n",
    "import pickle\n",
    "print(sys.version)"
   ]
  },
  {
   "cell_type": "code",
   "execution_count": 2,
   "metadata": {},
   "outputs": [],
   "source": [
    "## Import multiprocessing and functools libraries\n",
    "import multiprocessing\n",
    "from multiprocessing import Pool\n",
    "from functools import partial"
   ]
  },
  {
   "cell_type": "markdown",
   "metadata": {},
   "source": [
    "**Add folder with SCR provided belong to this notebook**"
   ]
  },
  {
   "cell_type": "code",
   "execution_count": 3,
   "metadata": {},
   "outputs": [],
   "source": [
    "# Add local module to the path\n",
    "src = os.path.abspath('/home/tais/github/SRC')\n",
    "if src not in sys.path:\n",
    "    sys.path.append(src)"
   ]
  },
  {
   "cell_type": "markdown",
   "metadata": {},
   "source": [
    "**Setup environment variables for TAIS DESKTOP (Linux Mint + GRASS Dev)**"
   ]
  },
  {
   "cell_type": "markdown",
   "metadata": {},
   "source": [
    "Please edit the file in `../SRC/config.py`, containing the configuration parameters, according to your own computer setup. The following cell is used to run this file.\n",
    "\n"
   ]
  },
  {
   "cell_type": "code",
   "execution_count": 55,
   "metadata": {
    "scrolled": true
   },
   "outputs": [],
   "source": [
    "run /home/tais/github/SRC/config.py"
   ]
  },
  {
   "cell_type": "code",
   "execution_count": 56,
   "metadata": {
    "tags": []
   },
   "outputs": [
    {
     "name": "stdout",
     "output_type": "stream",
     "text": [
      "{'GISBASE': '/usr/lib/grass78', 'PYTHONLIB': '/usr/bin/python3', 'gisdb': '/home/tais/GRASSDATA', 'location': 'flair-one', 'permanent_mapset': 'PERMANENT', 'locationepsg': '2154', 'outputfolder': '/home/tais/result', 'inputdir': '/home/tais/data'}\n"
     ]
    }
   ],
   "source": [
    "print(config_parameters)"
   ]
  },
  {
   "cell_type": "code",
   "execution_count": 57,
   "metadata": {},
   "outputs": [
    {
     "name": "stdout",
     "output_type": "stream",
     "text": [
      "{'legend': '/home/tais/github/Legend.txt'}\n"
     ]
    }
   ],
   "source": [
    "print(data)"
   ]
  },
  {
   "cell_type": "code",
   "execution_count": 58,
   "metadata": {},
   "outputs": [],
   "source": [
    "# Import functions that setup the environmental variables\n",
    "import environ_variables as envi"
   ]
  },
  {
   "cell_type": "code",
   "execution_count": 59,
   "metadata": {
    "scrolled": true
   },
   "outputs": [
    {
     "name": "stdout",
     "output_type": "stream",
     "text": [
      "PATH\t= /.local/bin:/usr/local/sbin:/usr/local/bin:/usr/sbin:/usr/bin:/sbin:/bin:/usr/lib/grass78/bin:/usr/lib/grass78/script:/usr/lib/grass78/lib:/usr/lib/grass78/bin:/usr/lib/grass78/scripts:/home/tais/.grass7/addons/scripts:/home/tais/.grass7/addons/bin:/usr/lib/grass78/bin:/usr/lib/grass78/scripts:/home/tais/.grass7/addons/scripts:/home/tais/.grass7/addons/bin:/usr/lib/grass78/bin:/usr/lib/grass78/scripts:/home/tais/.grass7/addons/scripts:/home/tais/.grass7/addons/bin:/usr/lib/grass78/bin:/usr/lib/grass78/scripts:/home/tais/.grass7/addons/scripts:/home/tais/.grass7/addons/bin:/usr/lib/grass78/bin:/usr/lib/grass78/scripts:/home/tais/.grass7/addons/scripts:/home/tais/.grass7/addons/bin:/usr/lib/grass78/bin:/usr/lib/grass78/scripts:/home/tais/.grass7/addons/scripts:/home/tais/.grass7/addons/bin:/usr/lib/grass78/bin:/usr/lib/grass78/script:/usr/lib/grass78/lib \t\n",
      "HOSTNAME\t= f6e49c08eb5b \t\n",
      "DISPLAY\t= unixlocalhost:10.0 \t\n",
      "LANG\t= C.UTF-8 \t\n",
      "LC_ALL\t= C.UTF-8 \t\n",
      "JUPYTER_ENABLE_LAB\t= yes \t\n",
      "TINI_VERSION\t= v0.6.0 \t\n",
      "HOME\t= /home/tais \t\n",
      "GIT_PYTHON_REFRESH\t= quiet \t\n",
      "JPY_PARENT_PID\t= 7 \t\n",
      "TERM\t= xterm-color \t\n",
      "CLICOLOR\t= 1 \t\n",
      "PAGER\t= cat \t\n",
      "GIT_PAGER\t= cat \t\n",
      "MPLBACKEND\t= module://matplotlib_inline.backend_inline \t\n",
      "PYTHONPATH\t= /usr/lib/grass78/etc/python:/usr/lib/grass78/etc/python:/usr/lib/grass78/etc/python:/usr/lib/grass78/etc/python:/usr/lib/grass78/etc/python:/usr/lib/grass78/etc/python::/usr/lib/grass78/etc/python:/usr/lib/grass78/etc/python/grass:/usr/lib/grass78/etc/python/grass/script:/usr/lib/grass78/etc/python:/usr/lib/grass78/etc/python/grass:/usr/lib/grass78/etc/python/grass/script \t\n",
      "LD_LIBRARY_PATH\t= :/usr/lib/grass78/lib:/usr/lib/grass78/lib:/usr/lib/grass78/lib:/usr/lib/grass78/lib:/usr/lib/grass78/lib:/usr/lib/grass78/lib:/usr/lib/grass78/lib:/usr/lib/grass78/lib \t\n",
      "GISBASE\t= /usr/lib/grass78 \t\n",
      "PYTHONLIB\t= /usr/bin/python3 \t\n",
      "GIS_LOCK\t= $$ \t\n",
      "GISRC\t= /home/tais/.grass7/rc \t\n",
      "GRASS_ADDON_BASE\t= /home/tais/.grass7/addons \t\n",
      "GRASS_PYTHON\t= python3 \t\n"
     ]
    }
   ],
   "source": [
    "# Set environmental variables\n",
    "envi.setup_environmental_variables() \n",
    "# Display current environment variables of your computer\n",
    "envi.print_environmental_variables()"
   ]
  },
  {
   "cell_type": "markdown",
   "metadata": {},
   "source": [
    "**GRASS GIS Python libraries**"
   ]
  },
  {
   "cell_type": "code",
   "execution_count": 60,
   "metadata": {},
   "outputs": [],
   "source": [
    "# Import libraries needed to launch GRASS GIS in the jupyter notebook\n",
    "import grass.script.setup as gsetup\n",
    "# Import libraries needed to call GRASS using Python\n",
    "import grass.script as gscript"
   ]
  },
  {
   "cell_type": "markdown",
   "metadata": {},
   "source": [
    "**Other functions**"
   ]
  },
  {
   "cell_type": "code",
   "execution_count": 61,
   "metadata": {},
   "outputs": [],
   "source": [
    "from grass.script import vector\n",
    "# Import function that check existance and create GRASS GIS database folder if needed\n",
    "from grass_database import check_gisdb, check_location, check_mapset, working_mapset\n",
    "# Import functions for processing time information\n",
    "from processing_time import start_processing, print_processing_time\n",
    "# Import function that generate a random name in the GRASS GIS environement\n",
    "from random_layer_name import random_layer_name\n",
    "# Import function that check and create folder\n",
    "from mkdir import check_create_dir\n",
    "# Import function that check if GRASS GIS add-on is installed and install it if needed\n",
    "from gextension import check_install_addon\n",
    "# Import function for sorting string number naturally\n",
    "from sorting_natural import natural_keys"
   ]
  },
  {
   "cell_type": "markdown",
   "metadata": {},
   "source": [
    "**-_-_-_-_-_-_-_-_-_-_-_-_-_-_-_-_-_-_-_-_-_-_-_-_-_-_-_-_-_-_-_-_-_-_-_-_-_-_-_-_-_-_-_-_-_-_-_-_-_-_-_-_-_-_-_-_-_-_-_-_-**"
   ]
  },
  {
   "cell_type": "code",
   "execution_count": 62,
   "metadata": {},
   "outputs": [],
   "source": [
    "def launch_mapset(mapset):\n",
    "    #Declare empty list that will contain the messages to return\n",
    "    return_message = []\n",
    "    # Init\n",
    "    gsetup.init(config_parameters['GISBASE'], config_parameters['gisdb'], config_parameters['location'], mapset)\n",
    "    # Check if the location exists and create it if not, with the CRS defined by the epsg code \n",
    "    return_message.append(check_location(config_parameters[\"gisdb\"],config_parameters['location'],config_parameters[\"locationepsg\"]))\n",
    "    # Check if mapset exists\n",
    "    return_message.append(check_mapset(config_parameters[\"gisdb\"],config_parameters['location'],mapset))\n",
    "    # Change the current working GRASS GIS session mapset\n",
    "    return_message.append(working_mapset(config_parameters[\"gisdb\"],config_parameters['location'],mapset))\n",
    "    # Return\n",
    "    return return_message"
   ]
  },
  {
   "cell_type": "code",
   "execution_count": 74,
   "metadata": {},
   "outputs": [],
   "source": [
    "def import_image(image_path, quiet=True):\n",
    "    if quiet:\n",
    "        gscript.run_command('g.gisenv', set=\"DEBUG=-1\")\n",
    "    # Import\n",
    "    gscript.run_command('r.in.gdal', quiet=True, overwrite=True, input=image_path, output=\"img\")\n",
    "    # Rename layers\n",
    "    gscript.run_command('g.rename', quiet=True, overwrite=True, raster='img.1,red')\n",
    "    gscript.run_command('g.rename', quiet=True, overwrite=True, raster='img.2,green')\n",
    "    gscript.run_command('g.rename', quiet=True, overwrite=True, raster='img.3,blue')\n",
    "    gscript.run_command('g.rename', quiet=True, overwrite=True, raster='img.4,nir')\n",
    "    gscript.run_command('g.rename', quiet=True, overwrite=True, raster='img.5,ndsm')\n",
    "    if quiet:\n",
    "        gscript.run_command('g.gisenv', set=\"DEBUG=0\")"
   ]
  },
  {
   "cell_type": "code",
   "execution_count": 84,
   "metadata": {},
   "outputs": [],
   "source": [
    "def compute_ndvi():\n",
    "    # Define computational region\n",
    "    gscript.run_command('g.region', raster='red')\n",
    "    # Use r.mapcalc to create new raster\n",
    "    formula = \"{new} = float({nir}-{red})/float({nir}+{red})\"\n",
    "    formula = formula.format(new='ndvi', nir='nir', red='red')\n",
    "    gscript.mapcalc(formula, quiet=True, overwrite=True)\n",
    "    gscript.run_command('r.null', map='ndvi', null='0')\n",
    "    gscript.run_command('r.colors', quiet=True, map='ndvi', color='ndvi')"
   ]
  },
  {
   "cell_type": "code",
   "execution_count": 89,
   "metadata": {},
   "outputs": [],
   "source": [
    "def compute_textures():\n",
    "    # Define computational region\n",
    "    gscript.run_command('g.region', raster='red')\n",
    "    # Compute textures on Red band\n",
    "    if 'text_red_ASM' not in gscript.list_strings('raster', 'text_red_*') or 'text_red_IDM' not in gscript.list_strings('raster', 'text_red_*'):\n",
    "        gscript.run_command('r.texture', flags='n', overwrite=True, quiet=True, input='red', output='text_red', size='11', method='asm,idm')\n",
    "        for x in gscript.list_strings('raster', pattern='text_red_*'):\n",
    "            gscript.run_command('r.null', quiet=True, map=x, null='0')\n",
    "            gscript.run_command('r.colors', flags='e', quiet=True, map=x, color='grey')  # Change color ramp to \"grey\" with histogram equalisation\n",
    "    # Compute textures on Green band\n",
    "    if 'text_green_DE' not in gscript.list_strings('raster', 'text_green_*') or 'text_green_Entr' not in gscript.list_strings('raster', 'text_green_*'):\n",
    "        gscript.run_command('r.texture', flags='n', overwrite=True, quiet=True, input='green', output='text_green', size='11', method='de,entr')\n",
    "        for x in gscript.list_strings('raster', pattern='text_green_*'):\n",
    "            gscript.run_command('r.null', quiet=True, map=x, null='0')\n",
    "            gscript.run_command('r.colors', flags='e', quiet=True, map=x, color='grey')\n",
    "    # Compute textures on Nir band\n",
    "    if 'text_nir_DE' not in gscript.list_strings('raster', 'text_nir_*'):\n",
    "        gscript.run_command('r.texture', flags='n', overwrite=True, quiet=True, input='nir', output='text_nir', size='11', method='de')\n",
    "        for x in gscript.list_strings('raster', pattern='text_nir_*'):\n",
    "            gscript.run_command('r.null', quiet=True, map=x, null='0')\n",
    "            gscript.run_command('r.colors', flags='e', quiet=True, map=x, color='grey')\n",
    "    # Compute textures on ndsm band\n",
    "    if 'text_ndsm_DE' not in gscript.list_strings('raster', 'text_ndsm_*') or 'text_ndsm_Entr' not in gscript.list_strings('raster', 'text_ndsm_*'):\n",
    "        gscript.run_command('r.texture', flags='n', overwrite=True, quiet=True, input='ndsm', output='text_ndsm', size='11', method='de,entr')\n",
    "        for x in gscript.list_strings('raster', pattern='text_ndsm_*'):\n",
    "            gscript.run_command('r.null', quiet=True, map=x, null='0')\n",
    "            gscript.run_command('r.colors', flags='e', quiet=True, map=x, color='grey')"
   ]
  },
  {
   "cell_type": "code",
   "execution_count": 90,
   "metadata": {},
   "outputs": [],
   "source": [
    "def fix_textures():\n",
    "    # Define computational region\n",
    "    gscript.run_command('g.region', raster='red')\n",
    "    # Fix issues with some textures layers having '-0' values (example: text_dsm_DE on Image 1 or 5)\n",
    "    for x in gscript.list_pairs(type='rast',pattern=\"text_*\"):\n",
    "        if gscript.raster_info(x[0])['min']==-0.0:\n",
    "            #print(\"Fixing values of raster %s\"%x[0])\n",
    "            gscript.mapcalc(exp=\"{rast}_tmp = if({rast}==-0,0,float({rast}))\".format(rast=x[0]), overwrite=True)\n",
    "            gscript.read_command('g.rename', overwrite=True, raster='{rast}_tmp,{rast}'.format(rast=x[0]))"
   ]
  },
  {
   "cell_type": "code",
   "execution_count": 91,
   "metadata": {},
   "outputs": [],
   "source": [
    "def worker(job_tupple):\n",
    "    # Launch a new mapset for this image\n",
    "    launch_mapset(job_tupple[0])\n",
    "    # Import images and rename\n",
    "    import_image(job_tupple[1])\n",
    "    # Compute ndvi\n",
    "    compute_ndvi()\n",
    "    # Create texture\n",
    "    compute_textures()\n",
    "    # Fix issue in textures\n",
    "    fix_textures()"
   ]
  },
  {
   "cell_type": "markdown",
   "metadata": {},
   "source": [
    "**-_-_-_-_-_-_-_-_-_-_-_-_-_-_-_-_-_-_-_-_-_-_-_-_-_-_-_-_-_-_-_-_-_-_-_-_-_-_-_-_-_-_-_-_-_-_-_-_-_-_-_-_-_-_-_-_-_-_-_-_-**"
   ]
  },
  {
   "cell_type": "markdown",
   "metadata": {},
   "source": [
    "## Create new directories"
   ]
  },
  {
   "cell_type": "code",
   "execution_count": 92,
   "metadata": {},
   "outputs": [
    {
     "name": "stdout",
     "output_type": "stream",
     "text": [
      "The folder '/home/tais/result' already exists\n"
     ]
    }
   ],
   "source": [
    "# Check and create folder if needed\n",
    "check_create_dir(config_parameters['outputfolder'])"
   ]
  },
  {
   "cell_type": "markdown",
   "metadata": {},
   "source": [
    "# Import and preprocessing data in parallel GRASSGIS mapsets"
   ]
  },
  {
   "cell_type": "code",
   "execution_count": 93,
   "metadata": {},
   "outputs": [],
   "source": [
    "import fnmatch\n",
    "\n",
    "def find_files(path, pattern):\n",
    "    for root, dirs, files in os.walk(path):\n",
    "        for file in fnmatch.filter(files, pattern):\n",
    "            yield os.path.join(root, file)"
   ]
  },
  {
   "cell_type": "code",
   "execution_count": 94,
   "metadata": {},
   "outputs": [
    {
     "name": "stdout",
     "output_type": "stream",
     "text": [
      "There are 2950 train images\n"
     ]
    }
   ],
   "source": [
    "# Get a list of path to train images\n",
    "train_folder = os.path.join(config_parameters['inputdir'],'train')\n",
    "train_tupple = [(os.path.split(x)[-1].split('.tif')[0],x) for x in find_files(train_folder, \"IMG_*.tif\")]\n",
    "print(f'There are {len(train_tupple)} train images')"
   ]
  },
  {
   "cell_type": "raw",
   "metadata": {},
   "source": [
    "start_parallel = start_processing()\n",
    "worker(train_tupple[0])\n",
    "print_processing_time(start_parallel, \"Computation achieved in \")"
   ]
  },
  {
   "cell_type": "code",
   "execution_count": null,
   "metadata": {},
   "outputs": [
    {
     "name": "stderr",
     "output_type": "stream",
     "text": [
      "   0   2   4   6   8  10  12  14  16  18  20  22  24  26  28  30  32  34  36  38  40  42  44  46  48  50  52   0   2  54  56   4   6  58   8  60  10  12  62  64  14  66  16  68  18  20  70  22  24  72  26  74  28  76  78  30  80  32  82  84  34  86  36  88  90  38  92  40  94  42  96  44  98 100\n",
      "  46  48  50  52  54  56  58  60  62  64  66  68  70  72  74  76  78  80  82  84  86  88  90  92  94  96  98 100\n",
      "   0   2   4   6   8  10  12  14  16  18  20  22  24  26  28  30  32  34  36  38  40  42  44  46  48  50  52  54  56  58  60  62  64  66  68  70  72  74  76  78  80  82  84  86  88  90  92  94  96  98 100\n",
      "   0   2   4   6   8  10  12   0  14   2   0   2   4  16   4  18   6   8  20   6  10   8  12  22  10  14  24  12  16  18  14  20  26  22  24  16  26  28  18  30  32  28  20  34  30  36  38  32  40  22  42  44  34  46  48  36  24  50  38  52  26  40  54  28  42  56  30  44  58  46  60  32  48  62  50  64  34  52  66  54  68  36  56  70  58  38  72  60  40  74  62  42  76  64  44  78  66  46  80  68  48  82  70  50  72  84  52  74  86  54  88  76  56  78  90  58  80  92  60  82  94  62  84  64  96  86  66  98  88 100\n",
      "  68  90  70  92  72  94  74  96  76  98  78 100\n",
      "  80  82  84  86  88  90  92  94  96  98 100\n",
      "   0   2   4   6   8  10  12   0  14  16   2   4   6   8  18  20  10  22  12  14  16  24  26  28  30  18  32  34  36  20  38  22  40  24  42  26  44  28  46  30  48  32  50  34  52  36  54  38  56  40  58  42  60  44  62  46  64  48  66  50  68  52  54  70  56  72  58  74  60  62  64  66  68  70  76  72  78  74  76  78  80  82   0  84  86  88   2  90   4  92   0  94   6   2  96   8   4  98  80  10 100\n",
      "  82  12   6  14  16   8  10  18  20  12  14  84  16  22  18  20  22  24  26  28  30  86  88  32  90  34   0  24   2  36   4   6  26  28  92  30   8  32  94  34   0  10  38  36  40  38   2  12  42  96  44  98  14  46  16  40  18  48  42  44 100\n",
      "  46  20  50  48  22  50  52  24  54  26  56   4  52  28  58  30  54   6  60  32  56  62   8  34  64  58  36  66  60  38  68  40  10  62  70  42  12  64  72  44  14  66  74  46  76  16  68  48  78  70  50  18  80  72  52  82  20  74  54  84  56  76  22  86  58  78  88  24  60  80  90   0  62  82  26  92  64  84  94   2  66  28  86  96  68  88  98  30   4  70  90 100\n",
      "  72  32  92  74   6  76  94  78  34  96   8  80  36  98  10 100\n",
      "  38  12  40  14  16  42  18  44  20  82  46  22  84  48  24  86  50  26  88  52  28   0  30  54  90  56  58  32  60  62  64  66  68   2  34  36   4  70  92   6  94  72  74   0   2   4  38  40   6  42   8  44  76  46  10  78  48  12  80  50  82  52  14  54  16  56   0   0  58  18  60  96   2  62  20  98  64  66  22 100\n",
      "  68   8  24  70  10  72  26  74  28  76  30  78  80  32  82   2  84  34   4  86  84   4  36  88  90   6  38  92  40  94  96  42  98  44 100\n",
      "  12  86  46  88  48  14  90  50  16  52  18  54  20  56   6   8  22  58  10  24  60  26  62   8  28  64  30  10  66  32  12  68  34  14  36  16  70  18  38  72  20  40  22  74  92  42  24  12   0  94  26  44  76  14  96  28   2  46  98  30  48  78  50  32 100\n",
      "  80  52  34  54  82   4  36  56   6  38  84  58  86  60  40  88  62  42  90  64  92  66  44   8  94  68  96  46  10  70  98  48  12 100\n",
      "  72  50  14  74  52  16  76  54  18  78  56  16  20  80   0  58  22  82  18  60  24  84  20   2  62  86  26  64  88  28  66  90  30   4  68  92  32  70  94  34  72  96   6  36  74   8  98  38  76 100\n",
      "  10  40  78  12  42  14  80  44  16  82  46  18  84  48  20  86  50  88  52  90  54  92  22  56  94  96  58  60  98  62 100\n",
      "  64  24  66  26  22  68  28  24  70  30  26  72  74  28  30  76  32  78  34  80  36  38  40  42  44  46  48  82  50  32  52  84  34  54  36  86   0  56  38  88  40  58  90  42  60  92  44  62  94  46  64  48  50  66  52  68  54  70  56  72  58  74  60  76  62  78  64  80  66  82  68   2  84  70  86  72   4  74  88  76  90  78  92  80  94  82  96  84  98  86 100\n",
      "  88  90  96  92  94  96   6  98  98 100\n",
      "   8 100\n",
      "  10  12  14  16  18  20  22  24  26  28  30  32  34  36  38  40  42  44  46  48  50  52  54  56  58  60  62  64  66  68  70  72  74  76  78  80  82  84  86  88  90  92  94  96  98 100\n"
     ]
    }
   ],
   "source": [
    "# Launch processes in parallel\n",
    "start_parallel = start_processing()\n",
    "ncores = 20\n",
    "p = Pool(ncores)\n",
    "output = p.map(worker, train_tupple[:50])  # Launch the processes for as many items in the list (if function with a return, the returned results are ordered thanks to 'map' function)\n",
    "p.close()\n",
    "p.join()\n",
    "# Print\n",
    "print_processing_time(start_parallel, \"Computation (on %s cores) achieved in \"%(ncores))"
   ]
  },
  {
   "cell_type": "code",
   "execution_count": null,
   "metadata": {},
   "outputs": [],
   "source": []
  }
 ],
 "metadata": {
  "kernelspec": {
   "display_name": "Python 3 (ipykernel)",
   "language": "python",
   "name": "python3"
  },
  "language_info": {
   "codemirror_mode": {
    "name": "ipython",
    "version": 3
   },
   "file_extension": ".py",
   "mimetype": "text/x-python",
   "name": "python",
   "nbconvert_exporter": "python",
   "pygments_lexer": "ipython3",
   "version": "3.10.4"
  }
 },
 "nbformat": 4,
 "nbformat_minor": 4
}
