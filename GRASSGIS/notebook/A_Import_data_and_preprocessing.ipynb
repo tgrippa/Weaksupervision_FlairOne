{
 "cells": [
  {
   "cell_type": "markdown",
   "metadata": {},
   "source": [
    "This python code has been developped by [Taïs Grippa](https://github.com/tgrippa) (Université Libre de Bruxelles). \n",
    "\n",
    "Code developped on Ubuntu 22.04 (Ubuntu Jammy) and GRASS GIS 8.0.2 using the Docker environment [available here](https://github.com/tgrippa/Weaksupervision_Vaihingen)."
   ]
  },
  {
   "cell_type": "markdown",
   "metadata": {},
   "source": [
    "# Define working environment"
   ]
  },
  {
   "cell_type": "markdown",
   "metadata": {},
   "source": [
    "**Import libraries**"
   ]
  },
  {
   "cell_type": "code",
   "execution_count": 1,
   "metadata": {},
   "outputs": [
    {
     "name": "stdout",
     "output_type": "stream",
     "text": [
      "3.10.6 (main, May 29 2023, 11:10:38) [GCC 11.3.0]\n"
     ]
    }
   ],
   "source": [
    "# Import libraries needed for setting parameters of operating system \n",
    "import os\n",
    "import sys\n",
    "import csv\n",
    "import tempfile\n",
    "import glob\n",
    "import math\n",
    "import pickle\n",
    "print(sys.version)"
   ]
  },
  {
   "cell_type": "code",
   "execution_count": 2,
   "metadata": {},
   "outputs": [],
   "source": [
    "## Import multiprocessing and functools libraries\n",
    "import multiprocessing\n",
    "from multiprocessing import Pool\n",
    "from functools import partial"
   ]
  },
  {
   "cell_type": "markdown",
   "metadata": {},
   "source": [
    "**Add folder with SCR provided belong to this notebook**"
   ]
  },
  {
   "cell_type": "code",
   "execution_count": 3,
   "metadata": {
    "tags": []
   },
   "outputs": [],
   "source": [
    "# Add local module to the path\n",
    "src = os.path.abspath(os.path.join(os.environ['HOME'],'github','SRC'))\n",
    "if src not in sys.path:\n",
    "    sys.path.append(src)"
   ]
  },
  {
   "cell_type": "markdown",
   "metadata": {},
   "source": [
    "**Setup environment variables for TAIS DESKTOP (Linux Mint + GRASS Dev)**"
   ]
  },
  {
   "cell_type": "markdown",
   "metadata": {},
   "source": [
    "Please edit the file in `../SRC/config.py`, containing the configuration parameters, according to your own computer setup. The following cell is used to run this file.\n",
    "\n"
   ]
  },
  {
   "cell_type": "code",
   "execution_count": 4,
   "metadata": {
    "scrolled": true,
    "tags": []
   },
   "outputs": [],
   "source": [
    "exec(open(os.path.join(os.environ['HOME'],'github','SRC', 'config.py')).read())"
   ]
  },
  {
   "cell_type": "code",
   "execution_count": 5,
   "metadata": {
    "tags": []
   },
   "outputs": [
    {
     "name": "stdout",
     "output_type": "stream",
     "text": [
      "{'GISBASE': '/usr/lib/grass78', 'PYTHONLIB': '/usr/bin/python3', 'gisdb': '/home/tais/GRASSDATA', 'location': 'flair-one', 'permanent_mapset': 'PERMANENT', 'locationepsg': '2154', 'outputfolder': '/home/tais/result', 'inputdir': '/home/tais/data'}\n"
     ]
    }
   ],
   "source": [
    "print(config_parameters)"
   ]
  },
  {
   "cell_type": "code",
   "execution_count": 6,
   "metadata": {},
   "outputs": [
    {
     "name": "stdout",
     "output_type": "stream",
     "text": [
      "{'legend': '/home/tais/github/Legend.txt'}\n"
     ]
    }
   ],
   "source": [
    "print(data)"
   ]
  },
  {
   "cell_type": "code",
   "execution_count": 7,
   "metadata": {},
   "outputs": [],
   "source": [
    "# Import functions that setup the environmental variables\n",
    "import environ_variables as envi"
   ]
  },
  {
   "cell_type": "code",
   "execution_count": 8,
   "metadata": {
    "scrolled": true
   },
   "outputs": [
    {
     "name": "stdout",
     "output_type": "stream",
     "text": [
      "PATH\t= /.local/bin:/usr/local/sbin:/usr/local/bin:/usr/sbin:/usr/bin:/sbin:/bin:/usr/lib/grass78/bin:/usr/lib/grass78/script:/usr/lib/grass78/lib \t\n",
      "HOSTNAME\t= d35fee4c10cd \t\n",
      "DISPLAY\t= unix \t\n",
      "LANG\t= C.UTF-8 \t\n",
      "LC_ALL\t= C.UTF-8 \t\n",
      "JUPYTER_ENABLE_LAB\t= yes \t\n",
      "TINI_VERSION\t= v0.6.0 \t\n",
      "HOME\t= /home/tais \t\n",
      "GIT_PYTHON_REFRESH\t= quiet \t\n",
      "PYDEVD_USE_FRAME_EVAL\t= NO \t\n",
      "JPY_SESSION_NAME\t= /home/tais/github/GRASSGIS/notebook/A_Import_data_and_preprocessing.ipynb \t\n",
      "JPY_PARENT_PID\t= 7 \t\n",
      "TERM\t= xterm-color \t\n",
      "CLICOLOR\t= 1 \t\n",
      "PAGER\t= cat \t\n",
      "GIT_PAGER\t= cat \t\n",
      "MPLBACKEND\t= module://matplotlib_inline.backend_inline \t\n",
      "PYTHONPATH\t= :/usr/lib/grass78/etc/python:/usr/lib/grass78/etc/python/grass:/usr/lib/grass78/etc/python/grass/script \t\n",
      "LD_LIBRARY_PATH\t= :/usr/lib/grass78/lib \t\n",
      "GISBASE\t= /usr/lib/grass78 \t\n",
      "PYTHONLIB\t= /usr/bin/python3 \t\n",
      "GIS_LOCK\t= $$ \t\n",
      "GISRC\t= /home/tais/.grass7/rc \t\n"
     ]
    }
   ],
   "source": [
    "# Set environmental variables\n",
    "envi.setup_environmental_variables() \n",
    "# Display current environment variables of your computer\n",
    "envi.print_environmental_variables()"
   ]
  },
  {
   "cell_type": "markdown",
   "metadata": {},
   "source": [
    "**GRASS GIS Python libraries**"
   ]
  },
  {
   "cell_type": "code",
   "execution_count": 9,
   "metadata": {},
   "outputs": [],
   "source": [
    "# Import libraries needed to launch GRASS GIS in the jupyter notebook\n",
    "import grass.script.setup as gsetup\n",
    "# Import libraries needed to call GRASS using Python\n",
    "import grass.script as gscript"
   ]
  },
  {
   "cell_type": "markdown",
   "metadata": {},
   "source": [
    "**Other functions**"
   ]
  },
  {
   "cell_type": "code",
   "execution_count": 10,
   "metadata": {},
   "outputs": [],
   "source": [
    "from grass.script import vector\n",
    "# Import function that check existance and create GRASS GIS database folder if needed\n",
    "from grass_database import check_gisdb, check_location, check_mapset, working_mapset\n",
    "# Import functions for processing time information\n",
    "from processing_time import start_processing, print_processing_time\n",
    "# Import function that generate a random name in the GRASS GIS environement\n",
    "from random_layer_name import random_layer_name\n",
    "# Import function that check and create folder\n",
    "from mkdir import check_create_dir\n",
    "# Import function that check if GRASS GIS add-on is installed and install it if needed\n",
    "from gextension import check_install_addon\n",
    "# Import function for sorting string number naturally\n",
    "from sorting_natural import natural_keys"
   ]
  },
  {
   "cell_type": "markdown",
   "metadata": {},
   "source": [
    "**-_-_-_-_-_-_-_-_-_-_-_-_-_-_-_-_-_-_-_-_-_-_-_-_-_-_-_-_-_-_-_-_-_-_-_-_-_-_-_-_-_-_-_-_-_-_-_-_-_-_-_-_-_-_-_-_-_-_-_-_-**"
   ]
  },
  {
   "cell_type": "code",
   "execution_count": 11,
   "metadata": {},
   "outputs": [],
   "source": [
    "import shutil\n",
    "def delete_mapset(mapset):\n",
    "    dirpath = os.path.join(config_parameters['GISBASE'], config_parameters['gisdb'], config_parameters['location'], mapset)\n",
    "    if os.path.exists(dirpath) and os.path.isdir(dirpath):\n",
    "        shutil.rmtree(dirpath)"
   ]
  },
  {
   "cell_type": "code",
   "execution_count": 12,
   "metadata": {},
   "outputs": [],
   "source": [
    "def launch_mapset(mapset):\n",
    "    #Declare empty list that will contain the messages to return\n",
    "    return_message = []\n",
    "    # Init\n",
    "    gsetup.init(config_parameters['GISBASE'], config_parameters['gisdb'], config_parameters['location'], mapset)\n",
    "    # Check if the location exists and create it if not, with the CRS defined by the epsg code \n",
    "    return_message.append(check_location(config_parameters[\"gisdb\"],config_parameters['location'],config_parameters[\"locationepsg\"]))\n",
    "    # Check if mapset exists\n",
    "    return_message.append(check_mapset(config_parameters[\"gisdb\"],config_parameters['location'],mapset))\n",
    "    # Change the current working GRASS GIS session mapset\n",
    "    return_message.append(working_mapset(config_parameters[\"gisdb\"],config_parameters['location'],mapset))\n",
    "    # Return\n",
    "    return return_message"
   ]
  },
  {
   "cell_type": "code",
   "execution_count": 13,
   "metadata": {},
   "outputs": [],
   "source": [
    "def import_image(image_path, quiet=True):\n",
    "    if quiet:\n",
    "        gscript.run_command('g.gisenv', set=\"DEBUG=-1\")\n",
    "    # Import\n",
    "    gscript.run_command('r.in.gdal', quiet=True, overwrite=True, input=image_path, output=\"img\")\n",
    "    # Rename layers\n",
    "    gscript.run_command('g.rename', quiet=True, overwrite=True, raster='img.1,red')\n",
    "    gscript.run_command('g.rename', quiet=True, overwrite=True, raster='img.2,green')\n",
    "    gscript.run_command('g.rename', quiet=True, overwrite=True, raster='img.3,blue')\n",
    "    gscript.run_command('g.rename', quiet=True, overwrite=True, raster='img.4,nir')\n",
    "    gscript.run_command('g.rename', quiet=True, overwrite=True, raster='img.5,ndsm')\n",
    "    if quiet:\n",
    "        gscript.run_command('g.gisenv', set=\"DEBUG=0\")"
   ]
  },
  {
   "cell_type": "code",
   "execution_count": 14,
   "metadata": {},
   "outputs": [],
   "source": [
    "def compute_ndvi():\n",
    "    # Define computational region\n",
    "    gscript.run_command('g.region', raster='red')\n",
    "    # Use r.mapcalc to create new raster\n",
    "    formula = \"{new} = float({nir}-{red})/float({nir}+{red})\"\n",
    "    formula = formula.format(new='ndvi', nir='nir', red='red')\n",
    "    #stdout = gscript.read_command('r.mapcalc', expression=formula, quiet=True, overwrite=True)\n",
    "    gscript.mapcalc(formula, quiet=True, overwrite=True)\n",
    "    gscript.run_command('r.null', map='ndvi', null='0')\n",
    "    gscript.run_command('r.colors', quiet=True, map='ndvi', color='ndvi')"
   ]
  },
  {
   "cell_type": "code",
   "execution_count": 15,
   "metadata": {},
   "outputs": [],
   "source": [
    "def compute_textures():\n",
    "    # Define computational region\n",
    "    gscript.run_command('g.region', raster='red')\n",
    "    # Compute textures on Red band\n",
    "    if 'text_red_ASM' not in gscript.list_strings('raster', 'text_red_*') or 'text_red_IDM' not in gscript.list_strings('raster', 'text_red_*'):\n",
    "        gscript.run_command('r.texture', flags='n', overwrite=True, quiet=True, input='red', output='text_red', size='11', method='asm,idm')\n",
    "        for x in gscript.list_strings('raster', pattern='text_red_*'):\n",
    "            gscript.run_command('r.null', quiet=True, map=x, null='0')\n",
    "            gscript.run_command('r.colors', flags='e', quiet=True, map=x, color='grey')  # Change color ramp to \"grey\" with histogram equalisation\n",
    "    # Compute textures on Green band\n",
    "    if 'text_green_DE' not in gscript.list_strings('raster', 'text_green_*') or 'text_green_Entr' not in gscript.list_strings('raster', 'text_green_*'):\n",
    "        gscript.run_command('r.texture', flags='n', overwrite=True, quiet=True, input='green', output='text_green', size='11', method='de,entr')\n",
    "        for x in gscript.list_strings('raster', pattern='text_green_*'):\n",
    "            gscript.run_command('r.null', quiet=True, map=x, null='0')\n",
    "            gscript.run_command('r.colors', flags='e', quiet=True, map=x, color='grey')\n",
    "    # Compute textures on Nir band\n",
    "    if 'text_nir_DE' not in gscript.list_strings('raster', 'text_nir_*'):\n",
    "        gscript.run_command('r.texture', flags='n', overwrite=True, quiet=True, input='nir', output='text_nir', size='11', method='de')\n",
    "        for x in gscript.list_strings('raster', pattern='text_nir_*'):\n",
    "            gscript.run_command('r.null', quiet=True, map=x, null='0')\n",
    "            gscript.run_command('r.colors', flags='e', quiet=True, map=x, color='grey')"
   ]
  },
  {
   "cell_type": "code",
   "execution_count": 16,
   "metadata": {},
   "outputs": [],
   "source": [
    "def fix_textures():\n",
    "    # Define computational region\n",
    "    gscript.run_command('g.region', raster='red')\n",
    "    # Fix issues with some textures layers having '-0' values (example: text_dsm_DE on Image 1 or 5)\n",
    "    for x in gscript.list_pairs(type='rast',pattern=\"text_*\"):\n",
    "        if gscript.raster_info(x[0])['min']==-0.0:\n",
    "            #print(\"Fixing values of raster %s\"%x[0])\n",
    "            gscript.mapcalc(exp=\"{rast}_tmp = if({rast}==-0,0,float({rast}))\".format(rast=x[0]), overwrite=True)\n",
    "            gscript.read_command('g.rename', quiet=True, overwrite=True, raster='{rast}_tmp,{rast}'.format(rast=x[0]))"
   ]
  },
  {
   "cell_type": "code",
   "execution_count": 17,
   "metadata": {},
   "outputs": [],
   "source": [
    "def worker(job_tupple):\n",
    "    # Remove the mapset folder for clean start\n",
    "    delete_mapset(job_tupple[0])\n",
    "    # Launch a new mapset for this image\n",
    "    launch_mapset(job_tupple[0])\n",
    "    # Import images and rename\n",
    "    import_image(job_tupple[1])\n",
    "    # Compute ndvi\n",
    "    compute_ndvi()\n",
    "    # Create texture\n",
    "    compute_textures()\n",
    "    # Fix issue in textures\n",
    "    fix_textures()"
   ]
  },
  {
   "cell_type": "markdown",
   "metadata": {},
   "source": [
    "**-_-_-_-_-_-_-_-_-_-_-_-_-_-_-_-_-_-_-_-_-_-_-_-_-_-_-_-_-_-_-_-_-_-_-_-_-_-_-_-_-_-_-_-_-_-_-_-_-_-_-_-_-_-_-_-_-_-_-_-_-**"
   ]
  },
  {
   "cell_type": "markdown",
   "metadata": {},
   "source": [
    "## Create new directories"
   ]
  },
  {
   "cell_type": "code",
   "execution_count": 18,
   "metadata": {},
   "outputs": [
    {
     "name": "stdout",
     "output_type": "stream",
     "text": [
      "The folder '/home/tais/result' already exists\n"
     ]
    }
   ],
   "source": [
    "# Check and create folder if needed\n",
    "check_create_dir(config_parameters['outputfolder'])"
   ]
  },
  {
   "cell_type": "markdown",
   "metadata": {},
   "source": [
    "# Import and preprocessing data in parallel GRASSGIS mapsets"
   ]
  },
  {
   "cell_type": "code",
   "execution_count": 19,
   "metadata": {},
   "outputs": [],
   "source": [
    "import fnmatch\n",
    "\n",
    "def find_files(path, pattern):\n",
    "    for root, dirs, files in os.walk(path):\n",
    "        for file in fnmatch.filter(files, pattern):\n",
    "            yield os.path.join(root, file)"
   ]
  },
  {
   "cell_type": "code",
   "execution_count": 20,
   "metadata": {},
   "outputs": [
    {
     "name": "stdout",
     "output_type": "stream",
     "text": [
      "There are 2950 train images\n"
     ]
    }
   ],
   "source": [
    "# Get a list of path to train images\n",
    "train_folder = os.path.join(config_parameters['inputdir'],'train')\n",
    "train_tupple = [(os.path.split(x)[-1].split('.tif')[0],x) for x in find_files(train_folder, \"IMG_*.tif\")]\n",
    "print(f'There are {len(train_tupple)} train images')"
   ]
  },
  {
   "cell_type": "raw",
   "metadata": {},
   "source": [
    "start_parallel = start_processing()\n",
    "worker(train_tupple[0])\n",
    "print_processing_time(start_parallel, \"Computation achieved in \")"
   ]
  },
  {
   "cell_type": "code",
   "execution_count": 23,
   "metadata": {},
   "outputs": [
    {
     "name": "stderr",
     "output_type": "stream",
     "text": [
      "   0   2   4   6   8  10  12  14  16  18  20  22  24  26  28  30  32  34  36  38  40  42  44  46  48  50  52  54  56  58  60  62  64  66  68  70  72  74  76  78  80  82  84   0   2   4   6   8  10  12  14  16  18  20  22  24  26  28   0  30   0  32  86  34  88  36  90  38  40  42  44  46  48  50  52  54  56  58  60  62   2  64  66  68  70  92  72  74  76  78  80  82  84  86   2  88   4  90  94   6  92   0   8   4  96  94  10   6   2  96  98  12   4  14  98   8  16 100\n",
      "   6 100\n",
      "  10  18   8  12  20  10  22  14  12  16  24  14  18  26  16  20  22  28  18  24  30  20  26  32  28  22  30  24  34  32  36  26  34  38  28  36  40  38  30  40  42  32  42  44  34  44  46  36  46  48  48  38  50  50  40  52   0  52  54  54  42  56  44  56  58  46  58  60  48   2  62  60   0  50  64  62  52  66  64  54  68  66  56   4  70  58   0  68  72  60  70   2  74  62  72  76   6  64  78  74  66  80  76  68  82  70  78  84   8  72  80  74  82   4  76  84  10  78  86  80  88  82  90  86   6  92  84  88  12   8  94  86  90  96  88  92  98  90  94 100\n",
      "  14  92  94  10  16   2  96  12  98   4  14 100\n",
      "  96  18  98 100\n",
      "  20  16  22  18  24  20  26  28   6  30  32   8  34  36  10  38  22  40  24  42  44  26  46  48  50  12  52  14  54  16  18  20  28  22  56  24  58  26  60  30  28  32  34  30  36  32  38  40  42  34  44   0  36  46   2  38   4  48   0  50   6  40  52   2   8  54   4  56  42  58  60  44   6  62   8  64  10  10  66  68  12  70  14  62  72  16  74  18  46  76  20  78  80  12  82  64  14  48  84  66  16  86  68  88  18  70  90  72  92  74  94  50  76  20  96  22  78  22  52  98  24  24  80 100\n",
      "  26  26  82  28  28  84  30  86  88  90  54  92  56  94  30  96  32  98 100\n",
      "  34  36  32  38  34  40  36  58  38  40  60  42  62  42  44  46  48  50  44  64  46  52  66  48  54  50  52  68  56  54  70  58  72  56  60  74  62  58  76  64  78  66  60  80  68  82  62  70  84  72  64  86  74  88  66  76  90  68  78  92  70  80  94  72  96  82  74  98  84  76 100\n",
      "  86  78  88  80  90  82  92  94  84  96  86  98  88 100\n",
      "  90  92  94  96  98 100\n"
     ]
    },
    {
     "data": {
      "text/plain": [
       "'Computation (on 20 cores) achieved in 57.9 seconds'"
      ]
     },
     "execution_count": 23,
     "metadata": {},
     "output_type": "execute_result"
    }
   ],
   "source": [
    "# Launch processes in parallel\n",
    "start_parallel = start_processing()\n",
    "ncores = 20\n",
    "p = Pool(ncores)\n",
    "output = p.map(worker, train_tupple[:10])  # Launch the processes for as many items in the list (if function with a return, the returned results are ordered thanks to 'map' function)\n",
    "p.close()\n",
    "p.join()\n",
    "# Print\n",
    "print_processing_time(start_parallel, \"Computation (on %s cores) achieved in \"%(ncores))"
   ]
  },
  {
   "cell_type": "code",
   "execution_count": 22,
   "metadata": {},
   "outputs": [
    {
     "data": {
      "text/plain": [
       "[('IMG_027772', '/home/tais/data/train/D044_2020/Z7_UU/img/IMG_027772.tif'),\n",
       " ('IMG_027782', '/home/tais/data/train/D044_2020/Z7_UU/img/IMG_027782.tif'),\n",
       " ('IMG_027769', '/home/tais/data/train/D044_2020/Z7_UU/img/IMG_027769.tif'),\n",
       " ('IMG_027778', '/home/tais/data/train/D044_2020/Z7_UU/img/IMG_027778.tif'),\n",
       " ('IMG_027766', '/home/tais/data/train/D044_2020/Z7_UU/img/IMG_027766.tif'),\n",
       " ('IMG_027776', '/home/tais/data/train/D044_2020/Z7_UU/img/IMG_027776.tif'),\n",
       " ('IMG_027787', '/home/tais/data/train/D044_2020/Z7_UU/img/IMG_027787.tif'),\n",
       " ('IMG_027784', '/home/tais/data/train/D044_2020/Z7_UU/img/IMG_027784.tif'),\n",
       " ('IMG_027783', '/home/tais/data/train/D044_2020/Z7_UU/img/IMG_027783.tif'),\n",
       " ('IMG_027779', '/home/tais/data/train/D044_2020/Z7_UU/img/IMG_027779.tif')]"
      ]
     },
     "execution_count": 22,
     "metadata": {},
     "output_type": "execute_result"
    }
   ],
   "source": [
    "train_tupple[:10]"
   ]
  },
  {
   "cell_type": "code",
   "execution_count": null,
   "metadata": {},
   "outputs": [],
   "source": []
  }
 ],
 "metadata": {
  "kernelspec": {
   "display_name": "Python 3 (ipykernel)",
   "language": "python",
   "name": "python3"
  },
  "language_info": {
   "codemirror_mode": {
    "name": "ipython",
    "version": 3
   },
   "file_extension": ".py",
   "mimetype": "text/x-python",
   "name": "python",
   "nbconvert_exporter": "python",
   "pygments_lexer": "ipython3",
   "version": "3.8.10"
  }
 },
 "nbformat": 4,
 "nbformat_minor": 4
}
